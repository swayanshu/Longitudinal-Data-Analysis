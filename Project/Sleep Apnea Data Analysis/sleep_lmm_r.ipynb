{
 "cells": [
  {
   "cell_type": "markdown",
   "metadata": {},
   "source": [
    "https://github.com/mjingram/Linear_Mixed_Effects_Models_in_R/blob/master/FinalProjAnalysis.Rmd"
   ]
  },
  {
   "cell_type": "markdown",
   "metadata": {},
   "source": [
    "https://github.com/jknowles/merTools/blob/master/vignettes/Using_predictInterval.Rmd"
   ]
  },
  {
   "cell_type": "markdown",
   "metadata": {},
   "source": [
    "http://www.rensenieuwenhuis.nl/r-sessions-16-multilevel-model-specification-lme4/\n",
    "https://rpsychologist.com/r-guide-longitudinal-lme-lmer\n",
    "https://cran.r-project.org/web/packages/merTools/merTools.pdf"
   ]
  },
  {
   "cell_type": "markdown",
   "metadata": {},
   "source": [
    "https://lme4.r-forge.r-project.org/book/Ch4.pdf   check"
   ]
  },
  {
   "cell_type": "code",
   "execution_count": 1,
   "metadata": {},
   "outputs": [
    {
     "name": "stderr",
     "output_type": "stream",
     "text": [
      "Warning message:\n",
      "\"package 'lme4' was built under R version 3.6.3\"Loading required package: Matrix\n",
      "Warning message:\n",
      "\"package 'ggplot2' was built under R version 3.6.3\""
     ]
    }
   ],
   "source": [
    "library(lme4)\n",
    "library(ggplot2)\n",
    "d <- sleepstudy\n",
    "d$Subject <- factor(rep(1:18, each=10))"
   ]
  },
  {
   "cell_type": "code",
   "execution_count": 7,
   "metadata": {},
   "outputs": [
    {
     "name": "stdout",
     "output_type": "stream",
     "text": [
      "package 'emmeans' successfully unpacked and MD5 sums checked\n",
      "\n",
      "The downloaded binary packages are in\n",
      "\tC:\\Users\\Swayanshu\\AppData\\Local\\Temp\\RtmpagPUeK\\downloaded_packages\n"
     ]
    },
    {
     "name": "stderr",
     "output_type": "stream",
     "text": [
      "Warning message:\n",
      "\"package 'emmeans' was built under R version 3.6.3\""
     ]
    }
   ],
   "source": [
    "install.packages(\"emmeans\")\n",
    "library(emmeans)"
   ]
  },
  {
   "cell_type": "code",
   "execution_count": null,
   "metadata": {},
   "outputs": [],
   "source": []
  },
  {
   "cell_type": "code",
   "execution_count": 2,
   "metadata": {},
   "outputs": [
    {
     "data": {
      "text/html": [
       "<table>\n",
       "<thead><tr><th></th><th scope=col>npar</th><th scope=col>Sum Sq</th><th scope=col>Mean Sq</th><th scope=col>F value</th></tr></thead>\n",
       "<tbody>\n",
       "\t<tr><th scope=row>factor(Days)</th><td>9       </td><td>166235.1</td><td>18470.57</td><td>18.7027 </td></tr>\n",
       "</tbody>\n",
       "</table>\n"
      ],
      "text/latex": [
       "\\begin{tabular}{r|llll}\n",
       "  & npar & Sum Sq & Mean Sq & F value\\\\\n",
       "\\hline\n",
       "\tfactor(Days) & 9        & 166235.1 & 18470.57 & 18.7027 \\\\\n",
       "\\end{tabular}\n"
      ],
      "text/markdown": [
       "\n",
       "| <!--/--> | npar | Sum Sq | Mean Sq | F value |\n",
       "|---|---|---|---|---|\n",
       "| factor(Days) | 9        | 166235.1 | 18470.57 | 18.7027  |\n",
       "\n"
      ],
      "text/plain": [
       "             npar Sum Sq   Mean Sq  F value\n",
       "factor(Days) 9    166235.1 18470.57 18.7027"
      ]
     },
     "metadata": {},
     "output_type": "display_data"
    }
   ],
   "source": [
    "m <- lmer(Reaction~factor(Days)+(1|Subject), data=lme4::sleepstudy)\n",
    "anova(m)"
   ]
  },
  {
   "cell_type": "code",
   "execution_count": 8,
   "metadata": {
    "scrolled": true
   },
   "outputs": [
    {
     "data": {
      "text/plain": [
       " Days emmean   SE df lower.CL upper.CL\n",
       "    0    257 11.5 42      234      280\n",
       "    1    264 11.5 42      241      288\n",
       "    2    265 11.5 42      242      288\n",
       "    3    283 11.5 42      260      306\n",
       "    4    289 11.5 42      266      312\n",
       "    5    309 11.5 42      285      332\n",
       "    6    312 11.5 42      289      335\n",
       "    7    319 11.5 42      296      342\n",
       "    8    337 11.5 42      314      360\n",
       "    9    351 11.5 42      328      374\n",
       "\n",
       "Degrees-of-freedom method: kenward-roger \n",
       "Confidence level used: 0.95 "
      ]
     },
     "metadata": {},
     "output_type": "display_data"
    }
   ],
   "source": [
    "m.emm <- emmeans(m, \"Days\")\n",
    "m.emm"
   ]
  },
  {
   "cell_type": "code",
   "execution_count": 12,
   "metadata": {},
   "outputs": [
    {
     "data": {
      "text/html": [
       "<table>\n",
       "<thead><tr><th scope=col>term</th><th scope=col>contrast</th><th scope=col>null.value</th><th scope=col>estimate</th><th scope=col>std.error</th><th scope=col>df</th><th scope=col>statistic</th><th scope=col>adj.p.value</th></tr></thead>\n",
       "<tbody>\n",
       "\t<tr><td>Days        </td><td>0 - 1       </td><td>0           </td><td> -7.843950  </td><td>10.47531    </td><td>153         </td><td>-0.7488038  </td><td>9.991104e-01</td></tr>\n",
       "\t<tr><td>Days        </td><td>0 - 2       </td><td>0           </td><td> -8.710094  </td><td>10.47531    </td><td>153         </td><td>-0.8314882  </td><td>9.979714e-01</td></tr>\n",
       "\t<tr><td>Days        </td><td>0 - 3       </td><td>0           </td><td>-26.340206  </td><td>10.47531    </td><td>153         </td><td>-2.5145044  </td><td>2.692482e-01</td></tr>\n",
       "\t<tr><td>Days        </td><td>0 - 4       </td><td>0           </td><td>-31.997617  </td><td>10.47531    </td><td>153         </td><td>-3.0545756  </td><td>7.699985e-02</td></tr>\n",
       "\t<tr><td>Days        </td><td>0 - 5       </td><td>0           </td><td>-51.866650  </td><td>10.47531    </td><td>153         </td><td>-4.9513251  </td><td>8.267238e-05</td></tr>\n",
       "\t<tr><td>Days        </td><td>0 - 6       </td><td>0           </td><td>-55.526450  </td><td>10.47531    </td><td>153         </td><td>-5.3006991  </td><td>1.728837e-05</td></tr>\n",
       "</tbody>\n",
       "</table>\n"
      ],
      "text/latex": [
       "\\begin{tabular}{r|llllllll}\n",
       " term & contrast & null.value & estimate & std.error & df & statistic & adj.p.value\\\\\n",
       "\\hline\n",
       "\t Days         & 0 - 1        & 0            &  -7.843950   & 10.47531     & 153          & -0.7488038   & 9.991104e-01\\\\\n",
       "\t Days         & 0 - 2        & 0            &  -8.710094   & 10.47531     & 153          & -0.8314882   & 9.979714e-01\\\\\n",
       "\t Days         & 0 - 3        & 0            & -26.340206   & 10.47531     & 153          & -2.5145044   & 2.692482e-01\\\\\n",
       "\t Days         & 0 - 4        & 0            & -31.997617   & 10.47531     & 153          & -3.0545756   & 7.699985e-02\\\\\n",
       "\t Days         & 0 - 5        & 0            & -51.866650   & 10.47531     & 153          & -4.9513251   & 8.267238e-05\\\\\n",
       "\t Days         & 0 - 6        & 0            & -55.526450   & 10.47531     & 153          & -5.3006991   & 1.728837e-05\\\\\n",
       "\\end{tabular}\n"
      ],
      "text/markdown": [
       "\n",
       "| term | contrast | null.value | estimate | std.error | df | statistic | adj.p.value |\n",
       "|---|---|---|---|---|---|---|---|\n",
       "| Days         | 0 - 1        | 0            |  -7.843950   | 10.47531     | 153          | -0.7488038   | 9.991104e-01 |\n",
       "| Days         | 0 - 2        | 0            |  -8.710094   | 10.47531     | 153          | -0.8314882   | 9.979714e-01 |\n",
       "| Days         | 0 - 3        | 0            | -26.340206   | 10.47531     | 153          | -2.5145044   | 2.692482e-01 |\n",
       "| Days         | 0 - 4        | 0            | -31.997617   | 10.47531     | 153          | -3.0545756   | 7.699985e-02 |\n",
       "| Days         | 0 - 5        | 0            | -51.866650   | 10.47531     | 153          | -4.9513251   | 8.267238e-05 |\n",
       "| Days         | 0 - 6        | 0            | -55.526450   | 10.47531     | 153          | -5.3006991   | 1.728837e-05 |\n",
       "\n"
      ],
      "text/plain": [
       "  term contrast null.value estimate   std.error df  statistic  adj.p.value \n",
       "1 Days 0 - 1    0           -7.843950 10.47531  153 -0.7488038 9.991104e-01\n",
       "2 Days 0 - 2    0           -8.710094 10.47531  153 -0.8314882 9.979714e-01\n",
       "3 Days 0 - 3    0          -26.340206 10.47531  153 -2.5145044 2.692482e-01\n",
       "4 Days 0 - 4    0          -31.997617 10.47531  153 -3.0545756 7.699985e-02\n",
       "5 Days 0 - 5    0          -51.866650 10.47531  153 -4.9513251 8.267238e-05\n",
       "6 Days 0 - 6    0          -55.526450 10.47531  153 -5.3006991 1.728837e-05"
      ]
     },
     "metadata": {},
     "output_type": "display_data"
    }
   ],
   "source": [
    "contrast(m.emm, 'tukey') %>%\n",
    "  broom::tidy() %>%\n",
    "  head(6)"
   ]
  },
  {
   "cell_type": "code",
   "execution_count": null,
   "metadata": {},
   "outputs": [],
   "source": []
  },
  {
   "cell_type": "code",
   "execution_count": null,
   "metadata": {},
   "outputs": [],
   "source": []
  },
  {
   "cell_type": "code",
   "execution_count": 3,
   "metadata": {},
   "outputs": [
    {
     "data": {
      "text/plain": [
       "Linear mixed model fit by REML ['lmerMod']\n",
       "Formula: Reaction ~ Days + (Days | Subject)\n",
       "   Data: d\n",
       "\n",
       "REML criterion at convergence: 1743.6\n",
       "\n",
       "Scaled residuals: \n",
       "    Min      1Q  Median      3Q     Max \n",
       "-3.9536 -0.4634  0.0231  0.4634  5.1793 \n",
       "\n",
       "Random effects:\n",
       " Groups   Name        Variance Std.Dev. Corr\n",
       " Subject  (Intercept) 612.10   24.741       \n",
       "          Days         35.07    5.922   0.07\n",
       " Residual             654.94   25.592       \n",
       "Number of obs: 180, groups:  Subject, 18\n",
       "\n",
       "Fixed effects:\n",
       "            Estimate Std. Error t value\n",
       "(Intercept)  251.405      6.825  36.838\n",
       "Days          10.467      1.546   6.771\n",
       "\n",
       "Correlation of Fixed Effects:\n",
       "     (Intr)\n",
       "Days -0.138"
      ]
     },
     "metadata": {},
     "output_type": "display_data"
    }
   ],
   "source": [
    "fm1 <- lmer(Reaction ~ Days + (Days|Subject), d)\n",
    "summary(fm1)\n",
    "d <- rbind(sleepstudy, sleepstudy)\n",
    "d$Subject <- factor(rep(1:36, each=10))\n",
    "d$Reaction <- ifelse(d$Subject %in% 19:36, NA, d$Reaction)\n",
    "d$predicted <- predict (fm1, newdata=d, allow.new.levels=T)\n",
    "d$simulated <- simulate(fm1, seed=1, newdata=d[-1], re.form=NA,\n",
    "                        allow.new.levels=T)$sim_1"
   ]
  },
  {
   "cell_type": "code",
   "execution_count": 4,
   "metadata": {},
   "outputs": [
    {
     "data": {
      "image/png": "[encoded data removed]",
      "text/plain": [
       "Plot with title \"Simulated data\""
      ]
     },
     "metadata": {},
     "output_type": "display_data"
    }
   ],
   "source": [
    "f <- function(x, ...) {\n",
    "    plot(x, xlab=\"Subject\", ylim=c(0, 500), ...)\n",
    "    grid()\n",
    "}\n",
    "par(mfrow=c(1,3), mar=c(4,4,1,1))\n",
    "with(d, f(tapply(Reaction,  Subject, mean), main=\"Original data\", ylab=\"Reaction\", xlim=c(1, 36)))\n",
    "with(d, f(tapply(predicted, Subject, mean), main=\"Predicted data\", ylab=\"\", col=rep(1:2, each=18)))\n",
    "with(d, f(tapply(simulated, Subject, mean), main=\"Simulated data\", ylab=\"\", col=rep(1:2, each=18)))\n",
    "legend(\"bottomright\", pch=c(1,1), col=1:2, c(\"old subjects\", \"new subjects\"), bg=\"white\")"
   ]
  },
  {
   "cell_type": "code",
   "execution_count": 6,
   "metadata": {},
   "outputs": [
    {
     "data": {
      "image/png": "[encoded data removed]",
      "text/plain": [
       "Plot with title \"Simulated data, new subjects\""
      ]
     },
     "metadata": {},
     "output_type": "display_data"
    }
   ],
   "source": [
    "x <- with(d, as.matrix(tapply(Reaction,  list(Subject, Days), mean), ncol=9))\n",
    "y <- with(d, as.matrix(tapply(predicted, list(Subject, Days), mean), ncol=9))\n",
    "z <- with(d, as.matrix(tapply(simulated, list(Subject, Days), mean), ncol=9))\n",
    "\n",
    "f <- function(xlab=\"Day\", ...) {\n",
    "    plot(c(1, 10), c(0, 500), ylab=\"Raction\", xlab=xlab, t=\"n\", ...)\n",
    "    grid()\n",
    "}\n",
    "par(mfrow=c(2,3), mar=c(4,4,1,1))\n",
    "\n",
    "f(main=\"Original data\", \"\")\n",
    "for (i in 1:18)\n",
    "  lines(x[i,])\n",
    "f(main=\"Predicted data with old subjects\", \"\")\n",
    "for (i in 1:18)\n",
    "  lines(y[i,])\n",
    "f(main=\"Predicted data with new subjects\", \"\")\n",
    "for (i in 19:36)\n",
    "  lines(y[i,], col=\"red\")\n",
    "f(main=\"Original data\")\n",
    "for (i in 1:18)\n",
    "  lines(x[i,])\n",
    "f(main=\"Simulated data, old subjects\")\n",
    "for (i in 1:18)\n",
    "  lines(z[i,])\n",
    "f(main=\"Simulated data, new subjects\")\n",
    "for (i in 19:36)\n",
    "  lines(z[i,], col=\"red\")\n",
    "legend(\"bottomright\", lty=c(1,1), col=1:2, c(\"old subjects\", \"new subjects\"), bg=\"white\")"
   ]
  },
  {
   "cell_type": "code",
   "execution_count": null,
   "metadata": {},
   "outputs": [],
   "source": []
  },
  {
   "cell_type": "code",
   "execution_count": 4,
   "metadata": {},
   "outputs": [
    {
     "name": "stderr",
     "output_type": "stream",
     "text": [
      "Warning message:\n",
      "\"package 'ggplot2' was built under R version 3.6.3\""
     ]
    }
   ],
   "source": [
    "library(lme4)\n",
    "library(ggplot2)\n",
    "## Load Data and EDA\n",
    "sleepDat<-sleepstudy"
   ]
  },
  {
   "cell_type": "code",
   "execution_count": 22,
   "metadata": {
    "scrolled": true
   },
   "outputs": [
    {
     "name": "stderr",
     "output_type": "stream",
     "text": [
      "also installing the dependencies 'TMB', 'cubelyr', 'broom.mixed'\n",
      "\n"
     ]
    },
    {
     "name": "stdout",
     "output_type": "stream",
     "text": [
      "package 'TMB' successfully unpacked and MD5 sums checked\n",
      "package 'cubelyr' successfully unpacked and MD5 sums checked\n",
      "package 'broom.mixed' successfully unpacked and MD5 sums checked\n",
      "package 'equatiomatic' successfully unpacked and MD5 sums checked\n",
      "\n",
      "The downloaded binary packages are in\n",
      "\tC:\\Users\\Swayanshu\\AppData\\Local\\Temp\\RtmpM31Mjd\\downloaded_packages\n"
     ]
    },
    {
     "name": "stderr",
     "output_type": "stream",
     "text": [
      "Warning message:\n",
      "\"package 'equatiomatic' was built under R version 3.6.3\"Warning message in checkMatrixPackageVersion():\n",
      "\"Package version inconsistency detected.\n",
      "TMB was built with Matrix version 1.3.2\n",
      "Current Matrix version is 1.2.17\n",
      "Please re-install 'TMB' from source using install.packages('TMB', type = 'source') or ask CRAN for a binary version of 'TMB' matching CRAN's 'Matrix' package\"Registered S3 method overwritten by 'broom.mixed':\n",
      "  method      from \n",
      "  tidy.gamlss broom\n"
     ]
    },
    {
     "data": {
      "text/html": [
       "<span style=white-space:pre-wrap>'\\\\begin{aligned}\\n  \\\\operatorname{Reaction}_{i}  &amp;\\\\sim N \\\\left(\\\\alpha_{j[i]} + \\\\beta_{1j[i]}(\\\\operatorname{Days}), \\\\sigma^2 \\\\right) \\\\\\\\    \\n\\\\left(\\n  \\\\begin{array}{c} \\n    \\\\begin{aligned}\\n      &amp;\\\\alpha_{j} \\\\\\\\\\n      &amp;\\\\beta_{1j}\\n    \\\\end{aligned}\\n  \\\\end{array}\\n\\\\right)\\n  &amp;\\\\sim N \\\\left(\\n\\\\left(\\n  \\\\begin{array}{c} \\n    \\\\begin{aligned}\\n      &amp;\\\\mu_{\\\\alpha_{j}} \\\\\\\\\\n      &amp;\\\\mu_{\\\\beta_{1j}}\\n    \\\\end{aligned}\\n  \\\\end{array}\\n\\\\right)\\n, \\n\\\\left(\\n  \\\\begin{array}{cc}\\n     \\\\sigma^2_{\\\\alpha_{j}} &amp; \\\\rho_{\\\\alpha_{j}\\\\beta_{1j}} \\\\\\\\ \\n     \\\\rho_{\\\\beta_{1j}\\\\alpha_{j}} &amp; \\\\sigma^2_{\\\\beta_{1j}}\\n  \\\\end{array}\\n\\\\right)\\n \\\\right)\\n    \\\\text{, for Subject j = 1,} \\\\dots \\\\text{,J}\\n\\\\end{aligned}'</span>"
      ],
      "text/latex": [
       "'\\textbackslash{}\\textbackslash{}begin\\{aligned\\}\\textbackslash{}n  \\textbackslash{}\\textbackslash{}operatorname\\{Reaction\\}\\_\\{i\\}  \\&\\textbackslash{}\\textbackslash{}sim N \\textbackslash{}\\textbackslash{}left(\\textbackslash{}\\textbackslash{}alpha\\_\\{j{[}i{]}\\} + \\textbackslash{}\\textbackslash{}beta\\_\\{1j{[}i{]}\\}(\\textbackslash{}\\textbackslash{}operatorname\\{Days\\}), \\textbackslash{}\\textbackslash{}sigma\\textasciicircum{}2 \\textbackslash{}\\textbackslash{}right) \\textbackslash{}\\textbackslash{}\\textbackslash{}\\textbackslash{}    \\textbackslash{}n\\textbackslash{}\\textbackslash{}left(\\textbackslash{}n  \\textbackslash{}\\textbackslash{}begin\\{array\\}\\{c\\} \\textbackslash{}n    \\textbackslash{}\\textbackslash{}begin\\{aligned\\}\\textbackslash{}n      \\&\\textbackslash{}\\textbackslash{}alpha\\_\\{j\\} \\textbackslash{}\\textbackslash{}\\textbackslash{}\\textbackslash{}\\textbackslash{}n      \\&\\textbackslash{}\\textbackslash{}beta\\_\\{1j\\}\\textbackslash{}n    \\textbackslash{}\\textbackslash{}end\\{aligned\\}\\textbackslash{}n  \\textbackslash{}\\textbackslash{}end\\{array\\}\\textbackslash{}n\\textbackslash{}\\textbackslash{}right)\\textbackslash{}n  \\&\\textbackslash{}\\textbackslash{}sim N \\textbackslash{}\\textbackslash{}left(\\textbackslash{}n\\textbackslash{}\\textbackslash{}left(\\textbackslash{}n  \\textbackslash{}\\textbackslash{}begin\\{array\\}\\{c\\} \\textbackslash{}n    \\textbackslash{}\\textbackslash{}begin\\{aligned\\}\\textbackslash{}n      \\&\\textbackslash{}\\textbackslash{}mu\\_\\{\\textbackslash{}\\textbackslash{}alpha\\_\\{j\\}\\} \\textbackslash{}\\textbackslash{}\\textbackslash{}\\textbackslash{}\\textbackslash{}n      \\&\\textbackslash{}\\textbackslash{}mu\\_\\{\\textbackslash{}\\textbackslash{}beta\\_\\{1j\\}\\}\\textbackslash{}n    \\textbackslash{}\\textbackslash{}end\\{aligned\\}\\textbackslash{}n  \\textbackslash{}\\textbackslash{}end\\{array\\}\\textbackslash{}n\\textbackslash{}\\textbackslash{}right)\\textbackslash{}n, \\textbackslash{}n\\textbackslash{}\\textbackslash{}left(\\textbackslash{}n  \\textbackslash{}\\textbackslash{}begin\\{array\\}\\{cc\\}\\textbackslash{}n     \\textbackslash{}\\textbackslash{}sigma\\textasciicircum{}2\\_\\{\\textbackslash{}\\textbackslash{}alpha\\_\\{j\\}\\} \\& \\textbackslash{}\\textbackslash{}rho\\_\\{\\textbackslash{}\\textbackslash{}alpha\\_\\{j\\}\\textbackslash{}\\textbackslash{}beta\\_\\{1j\\}\\} \\textbackslash{}\\textbackslash{}\\textbackslash{}\\textbackslash{} \\textbackslash{}n     \\textbackslash{}\\textbackslash{}rho\\_\\{\\textbackslash{}\\textbackslash{}beta\\_\\{1j\\}\\textbackslash{}\\textbackslash{}alpha\\_\\{j\\}\\} \\& \\textbackslash{}\\textbackslash{}sigma\\textasciicircum{}2\\_\\{\\textbackslash{}\\textbackslash{}beta\\_\\{1j\\}\\}\\textbackslash{}n  \\textbackslash{}\\textbackslash{}end\\{array\\}\\textbackslash{}n\\textbackslash{}\\textbackslash{}right)\\textbackslash{}n \\textbackslash{}\\textbackslash{}right)\\textbackslash{}n    \\textbackslash{}\\textbackslash{}text\\{, for Subject j = 1,\\} \\textbackslash{}\\textbackslash{}dots \\textbackslash{}\\textbackslash{}text\\{,J\\}\\textbackslash{}n\\textbackslash{}\\textbackslash{}end\\{aligned\\}'"
      ],
      "text/markdown": [
       "<span style=white-space:pre-wrap>'\\\\begin{aligned}\\n  \\\\operatorname{Reaction}_{i}  &amp;\\\\sim N \\\\left(\\\\alpha_{j[i]} + \\\\beta_{1j[i]}(\\\\operatorname{Days}), \\\\sigma^2 \\\\right) \\\\\\\\    \\n\\\\left(\\n  \\\\begin{array}{c} \\n    \\\\begin{aligned}\\n      &amp;\\\\alpha_{j} \\\\\\\\\\n      &amp;\\\\beta_{1j}\\n    \\\\end{aligned}\\n  \\\\end{array}\\n\\\\right)\\n  &amp;\\\\sim N \\\\left(\\n\\\\left(\\n  \\\\begin{array}{c} \\n    \\\\begin{aligned}\\n      &amp;\\\\mu_{\\\\alpha_{j}} \\\\\\\\\\n      &amp;\\\\mu_{\\\\beta_{1j}}\\n    \\\\end{aligned}\\n  \\\\end{array}\\n\\\\right)\\n, \\n\\\\left(\\n  \\\\begin{array}{cc}\\n     \\\\sigma^2_{\\\\alpha_{j}} &amp; \\\\rho_{\\\\alpha_{j}\\\\beta_{1j}} \\\\\\\\ \\n     \\\\rho_{\\\\beta_{1j}\\\\alpha_{j}} &amp; \\\\sigma^2_{\\\\beta_{1j}}\\n  \\\\end{array}\\n\\\\right)\\n \\\\right)\\n    \\\\text{, for Subject j = 1,} \\\\dots \\\\text{,J}\\n\\\\end{aligned}'</span>"
      ],
      "text/plain": [
       "$$\n",
       "\\begin{aligned}\n",
       "  \\operatorname{Reaction}_{i}  &\\sim N \\left(\\alpha_{j[i]} + \\beta_{1j[i]}(\\operatorname{Days}), \\sigma^2 \\right) \\\\    \n",
       "\\left(\n",
       "  \\begin{array}{c} \n",
       "    \\begin{aligned}\n",
       "      &\\alpha_{j} \\\\\n",
       "      &\\beta_{1j}\n",
       "    \\end{aligned}\n",
       "  \\end{array}\n",
       "\\right)\n",
       "  &\\sim N \\left(\n",
       "\\left(\n",
       "  \\begin{array}{c} \n",
       "    \\begin{aligned}\n",
       "      &\\mu_{\\alpha_{j}} \\\\\n",
       "      &\\mu_{\\beta_{1j}}\n",
       "    \\end{aligned}\n",
       "  \\end{array}\n",
       "\\right)\n",
       ", \n",
       "\\left(\n",
       "  \\begin{array}{cc}\n",
       "     \\sigma^2_{\\alpha_{j}} & \\rho_{\\alpha_{j}\\beta_{1j}} \\\\ \n",
       "     \\rho_{\\beta_{1j}\\alpha_{j}} & \\sigma^2_{\\beta_{1j}}\n",
       "  \\end{array}\n",
       "\\right)\n",
       " \\right)\n",
       "    \\text{, for Subject j = 1,} \\dots \\text{,J}\n",
       "\\end{aligned}\n",
       "$$"
      ]
     },
     "metadata": {},
     "output_type": "display_data"
    }
   ],
   "source": [
    "library(lme4)\n",
    "install.packages(\"equatiomatic\")\n",
    "library(equatiomatic)\n",
    "fm1 <- lmer(Reaction ~ Days + (Days|Subject), sleepDat)\n",
    "equatiomatic::extract_eq(fm1)"
   ]
  },
  {
   "cell_type": "code",
   "execution_count": 2,
   "metadata": {},
   "outputs": [
    {
     "data": {
      "text/html": [
       "<table>\n",
       "<thead><tr><th scope=col>Reaction</th><th scope=col>Days</th><th scope=col>Subject</th></tr></thead>\n",
       "<tbody>\n",
       "\t<tr><td>249.5600</td><td>0       </td><td>308     </td></tr>\n",
       "\t<tr><td>258.7047</td><td>1       </td><td>308     </td></tr>\n",
       "\t<tr><td>250.8006</td><td>2       </td><td>308     </td></tr>\n",
       "\t<tr><td>321.4398</td><td>3       </td><td>308     </td></tr>\n",
       "\t<tr><td>356.8519</td><td>4       </td><td>308     </td></tr>\n",
       "\t<tr><td>414.6901</td><td>5       </td><td>308     </td></tr>\n",
       "</tbody>\n",
       "</table>\n"
      ],
      "text/latex": [
       "\\begin{tabular}{r|lll}\n",
       " Reaction & Days & Subject\\\\\n",
       "\\hline\n",
       "\t 249.5600 & 0        & 308     \\\\\n",
       "\t 258.7047 & 1        & 308     \\\\\n",
       "\t 250.8006 & 2        & 308     \\\\\n",
       "\t 321.4398 & 3        & 308     \\\\\n",
       "\t 356.8519 & 4        & 308     \\\\\n",
       "\t 414.6901 & 5        & 308     \\\\\n",
       "\\end{tabular}\n"
      ],
      "text/markdown": [
       "\n",
       "| Reaction | Days | Subject |\n",
       "|---|---|---|\n",
       "| 249.5600 | 0        | 308      |\n",
       "| 258.7047 | 1        | 308      |\n",
       "| 250.8006 | 2        | 308      |\n",
       "| 321.4398 | 3        | 308      |\n",
       "| 356.8519 | 4        | 308      |\n",
       "| 414.6901 | 5        | 308      |\n",
       "\n"
      ],
      "text/plain": [
       "  Reaction Days Subject\n",
       "1 249.5600 0    308    \n",
       "2 258.7047 1    308    \n",
       "3 250.8006 2    308    \n",
       "4 321.4398 3    308    \n",
       "5 356.8519 4    308    \n",
       "6 414.6901 5    308    "
      ]
     },
     "metadata": {},
     "output_type": "display_data"
    }
   ],
   "source": [
    "head(sleepDat)"
   ]
  },
  {
   "cell_type": "code",
   "execution_count": 6,
   "metadata": {
    "scrolled": true
   },
   "outputs": [
    {
     "name": "stderr",
     "output_type": "stream",
     "text": [
      "`geom_smooth()` using formula 'y ~ x'\n"
     ]
    },
    {
     "data": {
      "image/png": "[encoded data removed]",
      "text/plain": [
       "plot without title"
      ]
     },
     "metadata": {},
     "output_type": "display_data"
    }
   ],
   "source": [
    "ggplot(sleepDat, aes(x = Days, y = Reaction)) + geom_point(color = \"red\", alpha = 0.7) + geom_smooth(method = \"lm\", color = \"black\") + theme_bw() + facet_wrap(~Subject)"
   ]
  },
  {
   "cell_type": "code",
   "execution_count": 7,
   "metadata": {
    "scrolled": true
   },
   "outputs": [
    {
     "name": "stderr",
     "output_type": "stream",
     "text": [
      "`geom_smooth()` using formula 'y ~ x'\n"
     ]
    },
    {
     "data": {
      "image/png": "[encoded data removed]",
      "text/plain": [
       "plot without title"
      ]
     },
     "metadata": {},
     "output_type": "display_data"
    }
   ],
   "source": [
    "ggplot(sleepDat[1:50,], aes(x = Days, y = Reaction)) + geom_point(color = \"blue\", alpha = 0.7) + geom_smooth(method = \"lm\", color = \"black\") + theme_bw() + facet_wrap(~Subject)"
   ]
  },
  {
   "cell_type": "markdown",
   "metadata": {},
   "source": [
    "# Intra-Class Correlation"
   ]
  },
  {
   "cell_type": "code",
   "execution_count": 8,
   "metadata": {},
   "outputs": [
    {
     "data": {
      "text/plain": [
       "Linear mixed model fit by REML ['lmerMod']\n",
       "Formula: Reaction ~ 1 + (1 | Subject)\n",
       "   Data: sleepDat\n",
       "\n",
       "REML criterion at convergence: 1904.3\n",
       "\n",
       "Scaled residuals: \n",
       "    Min      1Q  Median      3Q     Max \n",
       "-2.4983 -0.5501 -0.1476  0.5123  3.3446 \n",
       "\n",
       "Random effects:\n",
       " Groups   Name        Variance Std.Dev.\n",
       " Subject  (Intercept) 1278     35.75   \n",
       " Residual             1959     44.26   \n",
       "Number of obs: 180, groups:  Subject, 18\n",
       "\n",
       "Fixed effects:\n",
       "            Estimate Std. Error t value\n",
       "(Intercept)   298.51       9.05   32.98"
      ]
     },
     "metadata": {},
     "output_type": "display_data"
    }
   ],
   "source": [
    "summary(null <- lmer(Reaction ~ 1 + (1|Subject), data = sleepDat))"
   ]
  },
  {
   "cell_type": "code",
   "execution_count": 10,
   "metadata": {},
   "outputs": [
    {
     "name": "stderr",
     "output_type": "stream",
     "text": [
      "also installing the dependencies 'insight', 'bayestestR'\n",
      "\n"
     ]
    },
    {
     "name": "stdout",
     "output_type": "stream",
     "text": [
      "\n",
      "  There is a binary version available but the source version is later:\n",
      "        binary source needs_compilation\n",
      "insight 0.12.0 0.13.1             FALSE\n",
      "\n",
      "package 'bayestestR' successfully unpacked and MD5 sums checked\n",
      "package 'performance' successfully unpacked and MD5 sums checked\n",
      "\n",
      "The downloaded binary packages are in\n",
      "\tC:\\Users\\Swayanshu\\AppData\\Local\\Temp\\RtmpM31Mjd\\downloaded_packages\n"
     ]
    },
    {
     "name": "stderr",
     "output_type": "stream",
     "text": [
      "installing the source package 'insight'\n",
      "\n",
      "Warning message:\n",
      "\"package 'performance' was built under R version 3.6.3\""
     ]
    },
    {
     "data": {
      "text/plain": [
       "# Intraclass Correlation Coefficient\n",
       "\n",
       "     Adjusted ICC: 0.395\n",
       "  Conditional ICC: 0.395"
      ]
     },
     "metadata": {},
     "output_type": "display_data"
    }
   ],
   "source": [
    "install.packages(\"performance\")\n",
    "library(performance)\n",
    "performance::icc(null)"
   ]
  },
  {
   "cell_type": "code",
   "execution_count": null,
   "metadata": {},
   "outputs": [],
   "source": []
  },
  {
   "cell_type": "code",
   "execution_count": null,
   "metadata": {},
   "outputs": [],
   "source": []
  },
  {
   "cell_type": "code",
   "execution_count": 11,
   "metadata": {
    "scrolled": true
   },
   "outputs": [
    {
     "name": "stderr",
     "output_type": "stream",
     "text": [
      "Warning message:\n",
      "\"package 'tidyverse' was built under R version 3.6.3\"-- Attaching packages --------------------------------------- tidyverse 1.3.0 --\n",
      "v tibble  3.0.3     v dplyr   1.0.2\n",
      "v tidyr   1.1.2     v stringr 1.4.0\n",
      "v readr   1.3.1     v forcats 0.4.0\n",
      "v purrr   0.3.4     \n",
      "Warning message:\n",
      "\"package 'tibble' was built under R version 3.6.3\"Warning message:\n",
      "\"package 'tidyr' was built under R version 3.6.3\"Warning message:\n",
      "\"package 'purrr' was built under R version 3.6.3\"Warning message:\n",
      "\"package 'dplyr' was built under R version 3.6.3\"-- Conflicts ------------------------------------------ tidyverse_conflicts() --\n",
      "x tidyr::expand() masks Matrix::expand()\n",
      "x dplyr::filter() masks stats::filter()\n",
      "x dplyr::lag()    masks stats::lag()\n",
      "x tidyr::pack()   masks Matrix::pack()\n",
      "x tidyr::unpack() masks Matrix::unpack()\n"
     ]
    },
    {
     "name": "stdout",
     "output_type": "stream",
     "text": [
      "package 'sjPlot' successfully unpacked and MD5 sums checked\n",
      "\n",
      "The downloaded binary packages are in\n",
      "\tC:\\Users\\Swayanshu\\AppData\\Local\\Temp\\RtmpagPUeK\\downloaded_packages\n"
     ]
    },
    {
     "name": "stderr",
     "output_type": "stream",
     "text": [
      "Warning message:\n",
      "\"package 'sjPlot' was built under R version 3.6.3\"Learn more about sjPlot with 'browseVignettes(\"sjPlot\")'.\n"
     ]
    }
   ],
   "source": [
    "library(tidyverse)\n",
    "install.packages(\"sjPlot\")\n",
    "library(sjPlot)\n",
    "library(lme4) "
   ]
  },
  {
   "cell_type": "code",
   "execution_count": null,
   "metadata": {},
   "outputs": [],
   "source": []
  },
  {
   "cell_type": "raw",
   "metadata": {},
   "source": [
    "The multilevel part is the added + (1 | Subject). The part between the parentheses has two parts:\n",
    "\n",
    "The part after the | symbol gives the name of the higher level group, in this case Subject.\n",
    "The part before the | specifies the model for this higher level. In the current example, this is only 1, which referes to the intercept. Normally, the intercept is implicit, but here you do always need to specify it.\n",
    "Here we can also use the tab_model function (from the sjPlot package) to print the regression tab"
   ]
  },
  {
   "cell_type": "code",
   "execution_count": 15,
   "metadata": {},
   "outputs": [],
   "source": [
    "model1 = lmer(Reaction ~ Days + (1 | Subject), data=sleepDat)\n",
    "tab_model(model1)"
   ]
  },
  {
   "cell_type": "code",
   "execution_count": 20,
   "metadata": {},
   "outputs": [
    {
     "name": "stderr",
     "output_type": "stream",
     "text": [
      "\n",
      "Attaching package: 'nlme'\n",
      "\n",
      "The following object is masked from 'package:dplyr':\n",
      "\n",
      "    collapse\n",
      "\n",
      "The following object is masked from 'package:lme4':\n",
      "\n",
      "    lmList\n",
      "\n"
     ]
    },
    {
     "ename": "ERROR",
     "evalue": "Error in UseMethod(\"getVarCov\"): no applicable method for 'getVarCov' applied to an object of class \"c('lmerMod', 'merMod')\"\n",
     "output_type": "error",
     "traceback": [
      "Error in UseMethod(\"getVarCov\"): no applicable method for 'getVarCov' applied to an object of class \"c('lmerMod', 'merMod')\"\nTraceback:\n",
      "1. getVarCov(model1, individuals = 1, type = \"marginal\")"
     ]
    }
   ],
   "source": [
    "library(nlme)\n",
    "getVarCov(model1, individuals = 1, type = \"marginal\")"
   ]
  },
  {
   "cell_type": "code",
   "execution_count": 17,
   "metadata": {},
   "outputs": [],
   "source": [
    "m_rs = lmer(Reaction ~ Days + (1 + Days| Subject), data=sleepDat)\n",
    "tab_model(m_rs)"
   ]
  },
  {
   "cell_type": "code",
   "execution_count": 18,
   "metadata": {},
   "outputs": [],
   "source": [
    "base = lmer(Reaction ~ (1 | Subject), data=sleepDat)\n",
    "m1 = lmer(Reaction ~ Days + (1 | Subject), data=sleepDat)\n",
    "m2 = lmer(Reaction ~ Days + (1 + Days| Subject), data=sleepDat)\n",
    "tab_model(base,m1,m2)"
   ]
  },
  {
   "cell_type": "code",
   "execution_count": null,
   "metadata": {},
   "outputs": [],
   "source": []
  },
  {
   "cell_type": "code",
   "execution_count": 3,
   "metadata": {
    "scrolled": true
   },
   "outputs": [
    {
     "data": {
      "image/png": "[encoded data removed]",
      "text/plain": [
       "Plot with title \"Histogram of sleepDat$Reaction\""
      ]
     },
     "metadata": {},
     "output_type": "display_data"
    },
    {
     "data": {
      "image/png": "[encoded data removed]",
      "text/plain": [
       "Plot with title \"Histogram of sleepDat$Days\""
      ]
     },
     "metadata": {},
     "output_type": "display_data"
    }
   ],
   "source": [
    "hist(sleepDat$Reaction)\n",
    "hist(sleepDat$Days)"
   ]
  },
  {
   "cell_type": "code",
   "execution_count": 4,
   "metadata": {},
   "outputs": [
    {
     "data": {
      "image/png": "[encoded data removed]",
      "text/plain": [
       "Plot with title \"\""
      ]
     },
     "metadata": {},
     "output_type": "display_data"
    }
   ],
   "source": [
    "sleepMod1<-lm(Reaction~Days + Subject, sleepDat)\n",
    "par(mfrow=c(2,2))\n",
    "plot(sleepMod1)"
   ]
  },
  {
   "cell_type": "code",
   "execution_count": 6,
   "metadata": {},
   "outputs": [
    {
     "name": "stdout",
     "output_type": "stream",
     "text": [
      "package 'gvlma' successfully unpacked and MD5 sums checked\n",
      "\n",
      "The downloaded binary packages are in\n",
      "\tC:\\Users\\Swayanshu\\AppData\\Local\\Temp\\RtmpwFK61q\\downloaded_packages\n"
     ]
    }
   ],
   "source": [
    "install.packages(\"gvlma\")"
   ]
  },
  {
   "cell_type": "code",
   "execution_count": 10,
   "metadata": {},
   "outputs": [
    {
     "data": {
      "text/plain": [
       "\n",
       "Call:\n",
       "lm(formula = Reaction ~ Days + Subject, data = sleepDat)\n",
       "\n",
       "Coefficients:\n",
       "(Intercept)         Days   Subject309   Subject310   Subject330   Subject331  \n",
       "    295.031       10.467     -126.901     -111.133      -38.912      -32.698  \n",
       " Subject332   Subject333   Subject334   Subject335   Subject337   Subject349  \n",
       "    -34.832      -25.976      -46.832      -92.064       33.587      -66.299  \n",
       " Subject350   Subject351   Subject352   Subject369   Subject370   Subject371  \n",
       "    -28.531      -52.036       -4.712      -36.099      -50.432      -47.150  \n",
       " Subject372  \n",
       "    -24.248  \n",
       "\n",
       "\n",
       "ASSESSMENT OF THE LINEAR MODEL ASSUMPTIONS\n",
       "USING THE GLOBAL TEST ON 4 DEGREES-OF-FREEDOM:\n",
       "Level of Significance =  0.05 \n",
       "\n",
       "Call:\n",
       " gvlma(x = sleepMod1) \n",
       "\n",
       "                    Value   p-value                   Decision\n",
       "Global Stat        86.406 0.000e+00 Assumptions NOT satisfied!\n",
       "Skewness            1.378 2.404e-01    Assumptions acceptable.\n",
       "Kurtosis           41.186 1.384e-10 Assumptions NOT satisfied!\n",
       "Link Function      31.648 1.848e-08 Assumptions NOT satisfied!\n",
       "Heteroscedasticity 12.193 4.796e-04 Assumptions NOT satisfied!"
      ]
     },
     "metadata": {},
     "output_type": "display_data"
    },
    {
     "data": {
      "text/html": [
       "<table>\n",
       "<thead><tr><th></th><th scope=col>GVIF</th><th scope=col>Df</th><th scope=col>GVIF^(1/(2*Df))</th></tr></thead>\n",
       "<tbody>\n",
       "\t<tr><th scope=row>Days</th><td>1 </td><td> 1</td><td>1 </td></tr>\n",
       "\t<tr><th scope=row>Subject</th><td>1 </td><td>17</td><td>1 </td></tr>\n",
       "</tbody>\n",
       "</table>\n"
      ],
      "text/latex": [
       "\\begin{tabular}{r|lll}\n",
       "  & GVIF & Df & GVIF\\textasciicircum{}(1/(2*Df))\\\\\n",
       "\\hline\n",
       "\tDays & 1  &  1 & 1 \\\\\n",
       "\tSubject & 1  & 17 & 1 \\\\\n",
       "\\end{tabular}\n"
      ],
      "text/markdown": [
       "\n",
       "| <!--/--> | GVIF | Df | GVIF^(1/(2*Df)) |\n",
       "|---|---|---|---|\n",
       "| Days | 1  |  1 | 1  |\n",
       "| Subject | 1  | 17 | 1  |\n",
       "\n"
      ],
      "text/plain": [
       "        GVIF Df GVIF^(1/(2*Df))\n",
       "Days    1     1 1              \n",
       "Subject 1    17 1              "
      ]
     },
     "metadata": {},
     "output_type": "display_data"
    },
    {
     "data": {
      "image/png": "[encoded data removed]",
      "text/plain": [
       "plot without title"
      ]
     },
     "metadata": {},
     "output_type": "display_data"
    }
   ],
   "source": [
    "library(gvlma)\n",
    "gvlma(sleepMod1)\n",
    "library(car)\n",
    "influenceIndexPlot(sleepMod1)\n",
    "vif(sleepMod1)\n",
    "par(mfrow=c(1,1))"
   ]
  },
  {
   "cell_type": "code",
   "execution_count": 8,
   "metadata": {},
   "outputs": [],
   "source": []
  },
  {
   "cell_type": "code",
   "execution_count": 9,
   "metadata": {
    "scrolled": false
   },
   "outputs": [
    {
     "name": "stderr",
     "output_type": "stream",
     "text": [
      "Warning message:\n",
      "\"package 'ggplot2' was built under R version 3.6.3\""
     ]
    },
    {
     "data": {
      "image/png": "[encoded data removed]",
      "text/plain": [
       "plot without title"
      ]
     },
     "metadata": {},
     "output_type": "display_data"
    }
   ],
   "source": [
    "library(ggplot2)\n",
    "ggplot(sleepDat, aes(x = Days, y = Reaction, colour = Subject)) +\n",
    "  geom_point(size = 2) +\n",
    "  theme_classic() +\n",
    "  theme(legend.position = \"none\")"
   ]
  },
  {
   "cell_type": "code",
   "execution_count": 11,
   "metadata": {},
   "outputs": [],
   "source": [
    "## Possible Influence/outliers, independence assumption is violated, homoscedasity may be violated. Going to try linear mixed effects models to see if they will fix the assumptions.\n"
   ]
  },
  {
   "cell_type": "code",
   "execution_count": 12,
   "metadata": {
    "scrolled": true
   },
   "outputs": [
    {
     "data": {
      "image/png": "[encoded data removed]",
      "text/plain": [
       "plot without title"
      ]
     },
     "metadata": {},
     "output_type": "display_data"
    }
   ],
   "source": [
    "DayCol<-sleepDat$Days\n",
    "ReactCol<-sleepDat$Reaction\n",
    "plot(DayCol, ReactCol)"
   ]
  },
  {
   "cell_type": "code",
   "execution_count": 30,
   "metadata": {},
   "outputs": [
    {
     "name": "stdout",
     "output_type": "stream",
     "text": [
      "package 'mlmRev' successfully unpacked and MD5 sums checked\n",
      "\n",
      "The downloaded binary packages are in\n",
      "\tC:\\Users\\Swayanshu\\AppData\\Local\\Temp\\RtmpM31Mjd\\downloaded_packages\n"
     ]
    },
    {
     "name": "stderr",
     "output_type": "stream",
     "text": [
      "Warning message:\n",
      "\"package 'mlmRev' was built under R version 3.6.3\"\n",
      "Attaching package: 'mlmRev'\n",
      "\n",
      "The following objects are masked from 'package:nlme':\n",
      "\n",
      "    bdf, Oxboys\n",
      "\n"
     ]
    }
   ],
   "source": [
    "install.packages(\"mlmRev\")\n",
    "library(mlmRev)"
   ]
  },
  {
   "cell_type": "code",
   "execution_count": 24,
   "metadata": {},
   "outputs": [
    {
     "data": {
      "text/html": [
       "<ol class=list-inline>\n",
       "\t<li>'Reaction'</li>\n",
       "\t<li>'Days'</li>\n",
       "\t<li>'Subject'</li>\n",
       "</ol>\n"
      ],
      "text/latex": [
       "\\begin{enumerate*}\n",
       "\\item 'Reaction'\n",
       "\\item 'Days'\n",
       "\\item 'Subject'\n",
       "\\end{enumerate*}\n"
      ],
      "text/markdown": [
       "1. 'Reaction'\n",
       "2. 'Days'\n",
       "3. 'Subject'\n",
       "\n",
       "\n"
      ],
      "text/plain": [
       "[1] \"Reaction\" \"Days\"     \"Subject\" "
      ]
     },
     "metadata": {},
     "output_type": "display_data"
    }
   ],
   "source": [
    "names(sleepDat)"
   ]
  },
  {
   "cell_type": "code",
   "execution_count": 26,
   "metadata": {},
   "outputs": [
    {
     "data": {
      "text/plain": [
       "Linear mixed model fit by REML ['lmerMod']\n",
       "Formula: Reaction ~ 1 + (1 | Subject)\n",
       "   Data: sleepDat\n",
       "\n",
       "REML criterion at convergence: 1904.3\n",
       "\n",
       "Scaled residuals: \n",
       "    Min      1Q  Median      3Q     Max \n",
       "-2.4983 -0.5501 -0.1476  0.5123  3.3446 \n",
       "\n",
       "Random effects:\n",
       " Groups   Name        Variance Std.Dev.\n",
       " Subject  (Intercept) 1278     35.75   \n",
       " Residual             1959     44.26   \n",
       "Number of obs: 180, groups:  Subject, 18\n",
       "\n",
       "Fixed effects:\n",
       "            Estimate Std. Error t value\n",
       "(Intercept)   298.51       9.05   32.98"
      ]
     },
     "metadata": {},
     "output_type": "display_data"
    }
   ],
   "source": [
    "#null-model\n",
    "model_null <- lmer(Reaction ~ 1 + (1 | Subject), data=sleepDat)\n",
    "summary(model_null)"
   ]
  },
  {
   "cell_type": "code",
   "execution_count": null,
   "metadata": {},
   "outputs": [],
   "source": []
  },
  {
   "cell_type": "code",
   "execution_count": 13,
   "metadata": {},
   "outputs": [
    {
     "data": {
      "text/plain": [
       "Linear mixed model fit by REML ['lmerMod']\n",
       "Formula: Reaction ~ Days + (1 | Subject)\n",
       "   Data: sleepDat\n",
       "\n",
       "REML criterion at convergence: 1786.5\n",
       "\n",
       "Scaled residuals: \n",
       "    Min      1Q  Median      3Q     Max \n",
       "-3.2257 -0.5529  0.0109  0.5188  4.2506 \n",
       "\n",
       "Random effects:\n",
       " Groups   Name        Variance Std.Dev.\n",
       " Subject  (Intercept) 1378.2   37.12   \n",
       " Residual              960.5   30.99   \n",
       "Number of obs: 180, groups:  Subject, 18\n",
       "\n",
       "Fixed effects:\n",
       "            Estimate Std. Error t value\n",
       "(Intercept) 251.4051     9.7467   25.79\n",
       "Days         10.4673     0.8042   13.02\n",
       "\n",
       "Correlation of Fixed Effects:\n",
       "     (Intr)\n",
       "Days -0.371"
      ]
     },
     "metadata": {},
     "output_type": "display_data"
    },
    {
     "data": {
      "text/plain": [
       "$Subject\n",
       "    (Intercept)     Days\n",
       "308    292.1888 10.46729\n",
       "309    173.5556 10.46729\n",
       "310    188.2965 10.46729\n",
       "330    255.8115 10.46729\n",
       "331    261.6213 10.46729\n",
       "332    259.6263 10.46729\n",
       "333    267.9056 10.46729\n",
       "334    248.4081 10.46729\n",
       "335    206.1230 10.46729\n",
       "337    323.5878 10.46729\n",
       "349    230.2089 10.46729\n",
       "350    265.5165 10.46729\n",
       "351    243.5429 10.46729\n",
       "352    287.7835 10.46729\n",
       "369    258.4415 10.46729\n",
       "370    245.0424 10.46729\n",
       "371    248.1108 10.46729\n",
       "372    269.5209 10.46729\n",
       "\n",
       "attr(,\"class\")\n",
       "[1] \"coef.mer\""
      ]
     },
     "metadata": {},
     "output_type": "display_data"
    }
   ],
   "source": [
    "#random intercept, fixed predictor in individual level\n",
    "sleepMod2<-lmer(Reaction ~ Days + (1|Subject), sleepDat)\n",
    "summary(sleepMod2)\n",
    "coef(sleepMod2)\n"
   ]
  },
  {
   "cell_type": "code",
   "execution_count": 22,
   "metadata": {},
   "outputs": [],
   "source": [
    " fm2 <- lmer(Reaction ~ Days + (Days || Subject), sleepstudy)"
   ]
  },
  {
   "cell_type": "code",
   "execution_count": null,
   "metadata": {},
   "outputs": [],
   "source": []
  },
  {
   "cell_type": "code",
   "execution_count": null,
   "metadata": {},
   "outputs": [],
   "source": []
  },
  {
   "cell_type": "code",
   "execution_count": null,
   "metadata": {},
   "outputs": [],
   "source": []
  },
  {
   "cell_type": "code",
   "execution_count": 32,
   "metadata": {
    "scrolled": true
   },
   "outputs": [
    {
     "data": {
      "text/plain": [
       "Linear mixed model fit by REML ['lmerMod']\n",
       "Formula: Reaction ~ Days + (Days | Subject)\n",
       "   Data: sleepDat\n",
       "\n",
       "REML criterion at convergence: 1743.6\n",
       "\n",
       "Scaled residuals: \n",
       "    Min      1Q  Median      3Q     Max \n",
       "-3.9536 -0.4634  0.0231  0.4634  5.1793 \n",
       "\n",
       "Random effects:\n",
       " Groups   Name        Variance Std.Dev. Corr\n",
       " Subject  (Intercept) 612.10   24.741       \n",
       "          Days         35.07    5.922   0.07\n",
       " Residual             654.94   25.592       \n",
       "Number of obs: 180, groups:  Subject, 18\n",
       "\n",
       "Fixed effects:\n",
       "            Estimate Std. Error t value\n",
       "(Intercept)  251.405      6.825  36.838\n",
       "Days          10.467      1.546   6.771\n",
       "\n",
       "Correlation of Fixed Effects:\n",
       "     (Intr)\n",
       "Days -0.138"
      ]
     },
     "metadata": {},
     "output_type": "display_data"
    },
    {
     "data": {
      "text/plain": [
       "$Subject\n",
       "    (Intercept)       Days\n",
       "308    253.6637 19.6662617\n",
       "309    211.0064  1.8476053\n",
       "310    212.4447  5.0184295\n",
       "330    275.0957  5.6529356\n",
       "331    273.6654  7.3973743\n",
       "332    260.4447 10.1951090\n",
       "333    268.2456 10.2436499\n",
       "334    244.1725 11.5418676\n",
       "335    251.0714 -0.2848792\n",
       "337    286.2956 19.0955511\n",
       "349    226.1949 11.6407181\n",
       "350    238.3351 17.0815038\n",
       "351    255.9830  7.4520239\n",
       "352    272.2688 14.0032871\n",
       "369    254.6806 11.3395008\n",
       "370    225.7921 15.2897709\n",
       "371    252.2122  9.4791297\n",
       "372    263.7197 11.7513080\n",
       "\n",
       "attr(,\"class\")\n",
       "[1] \"coef.mer\""
      ]
     },
     "metadata": {},
     "output_type": "display_data"
    }
   ],
   "source": [
    "## random intercept, random slope\n",
    "\n",
    "sleepMod3<-lmer(Reaction ~ Days + (Days|Subject), data= sleepDat)\n",
    "summary(sleepMod3)\n",
    "coef(sleepMod3)"
   ]
  },
  {
   "cell_type": "code",
   "execution_count": 35,
   "metadata": {
    "scrolled": true
   },
   "outputs": [
    {
     "data": {
      "text/plain": [
       "Linear mixed model fit by REML ['lmerMod']\n",
       "Formula: Reaction ~ Days + mygrp + (1 + Days | Subject)\n",
       "   Data: sleepDat\n",
       "REML criterion at convergence: 1740.383\n",
       "Random effects:\n",
       " Groups   Name        Std.Dev. Corr\n",
       " Subject  (Intercept) 25.235       \n",
       "          Days         5.885   0.05\n",
       " Residual             25.595       \n",
       "Number of obs: 180, groups:  Subject, 18\n",
       "Fixed Effects:\n",
       "(Intercept)         Days        mygrp  \n",
       "     247.96        10.41         1.20  "
      ]
     },
     "metadata": {},
     "output_type": "display_data"
    }
   ],
   "source": [
    "sleepDat$mygrp <- sample(1:5, size = 180, replace = TRUE)\n",
    "#random intercept, individual and group level predictor\n",
    "\n",
    "lmer(Reaction ~ Days + mygrp + (1 + Days | Subject), data=sleepDat)"
   ]
  },
  {
   "cell_type": "code",
   "execution_count": null,
   "metadata": {},
   "outputs": [],
   "source": []
  },
  {
   "cell_type": "code",
   "execution_count": 36,
   "metadata": {},
   "outputs": [
    {
     "data": {
      "text/plain": [
       "Linear mixed model fit by REML ['lmerMod']\n",
       "Formula: Reaction ~ Days * mygrp + (1 + Days | Subject)\n",
       "   Data: sleepDat\n",
       "REML criterion at convergence: 1736.489\n",
       "Random effects:\n",
       " Groups   Name        Std.Dev. Corr\n",
       " Subject  (Intercept) 25.191       \n",
       "          Days         5.876   0.02\n",
       " Residual             25.408       \n",
       "Number of obs: 180, groups:  Subject, 18\n",
       "Fixed Effects:\n",
       "(Intercept)         Days        mygrp   Days:mygrp  \n",
       "   260.0935       7.4870      -2.8386       0.9423  "
      ]
     },
     "metadata": {},
     "output_type": "display_data"
    }
   ],
   "source": [
    "#random intercept, cross-level interaction\n",
    "lmer(Reaction ~ Days * mygrp + (1 + Days | Subject), data=sleepDat)"
   ]
  },
  {
   "cell_type": "code",
   "execution_count": null,
   "metadata": {},
   "outputs": [],
   "source": []
  },
  {
   "cell_type": "code",
   "execution_count": 16,
   "metadata": {},
   "outputs": [
    {
     "data": {
      "image/png": "[encoded data removed]",
      "text/plain": [
       "Plot with title \"Random Intercept Model of Reaction Time vs. Days \n",
       "by Subject\""
      ]
     },
     "metadata": {},
     "output_type": "display_data"
    }
   ],
   "source": [
    "## Plotting Mixed Effects Models\n",
    "## Random Intercept Model\n",
    "fixParam<-fixef(sleepMod2)\n",
    "randParamVector<-coef(sleepMod2)[[\"Subject\"]][[\"(Intercept)\"]]\n",
    "SubjectVector<-levels(sleepDat$Subject)\n",
    "plot(Reaction~Days,data=sleepDat,ylab=\"Reaction Time\",xlab=\"Days\", ylim=c(100, 500), main=\"Random Intercept Model of Reaction Time vs. Days \\nby Subject\")\n",
    "subNum<-unique(sleepDat$Subject)\n",
    "for(i in 1:18){\n",
    "abline(a=randParamVector[i], b=fixParam[2],col=(20+i),lty=2,lwd=2)\n",
    "}\n",
    "abline(fixParam,lwd=6,col=\"green\")\n",
    "legend(\"bottomright\", legend=SubjectVector,\n",
    "       col=21:38, lty=2, cex=0.375, horiz=TRUE)"
   ]
  },
  {
   "cell_type": "code",
   "execution_count": 18,
   "metadata": {
    "scrolled": true
   },
   "outputs": [
    {
     "data": {
      "image/png": "[encoded data removed]",
      "text/plain": [
       "Plot with title \"Random Slope and Intercept Model of Reaction Time vs. Days \n",
       "by Subject\""
      ]
     },
     "metadata": {},
     "output_type": "display_data"
    }
   ],
   "source": [
    "## Random Slope Model\n",
    "fixParam<-fixef(sleepMod3)\n",
    "randParamVector<-coef(sleepMod3)[[\"Subject\"]][[\"(Intercept)\"]]\n",
    "fixParamVector<-coef(sleepMod3)[[\"Subject\"]][[\"Days\"]]\n",
    "plot(Reaction~Days,data=sleepDat,ylab=\"Reaction Time\",xlab=\"Days\", ylim=c(100, 500), main=\"Random Slope and Intercept Model of Reaction Time vs. Days \\nby Subject\")\n",
    "subNum<-unique(sleepDat$Subject)\n",
    "for(i in 1:18){\n",
    "abline(a=randParamVector[i],b=fixParamVector[i], col=(20+i), lty=2, lwd=2)\n",
    "}\n",
    "abline(fixParam,lwd=6,col=\"blue\")\n",
    "legend(\"bottomright\", legend=SubjectVector,\n",
    "       col=21:38, lty=2, cex=0.375, horiz=TRUE)"
   ]
  },
  {
   "cell_type": "code",
   "execution_count": 19,
   "metadata": {},
   "outputs": [
    {
     "data": {
      "text/html": [
       "<table>\n",
       "<thead><tr><th></th><th scope=col>npar</th><th scope=col>AIC</th><th scope=col>BIC</th><th scope=col>logLik</th><th scope=col>deviance</th><th scope=col>Chisq</th><th scope=col>Df</th><th scope=col>Pr(&gt;Chisq)</th></tr></thead>\n",
       "<tbody>\n",
       "\t<tr><th scope=row>sleepMod2.Null</th><td>3           </td><td>1916.541    </td><td>1926.12     </td><td>-955.2705   </td><td>1910.541    </td><td>      NA    </td><td>NA          </td><td>          NA</td></tr>\n",
       "\t<tr><th scope=row>sleepMod2</th><td>4           </td><td>1802.079    </td><td>1814.85     </td><td>-897.0393   </td><td>1794.079    </td><td>116.4624    </td><td> 1          </td><td>3.764461e-27</td></tr>\n",
       "</tbody>\n",
       "</table>\n"
      ],
      "text/latex": [
       "\\begin{tabular}{r|llllllll}\n",
       "  & npar & AIC & BIC & logLik & deviance & Chisq & Df & Pr(>Chisq)\\\\\n",
       "\\hline\n",
       "\tsleepMod2.Null & 3            & 1916.541     & 1926.12      & -955.2705    & 1910.541     &       NA     & NA           &           NA\\\\\n",
       "\tsleepMod2 & 4            & 1802.079     & 1814.85      & -897.0393    & 1794.079     & 116.4624     &  1           & 3.764461e-27\\\\\n",
       "\\end{tabular}\n"
      ],
      "text/markdown": [
       "\n",
       "| <!--/--> | npar | AIC | BIC | logLik | deviance | Chisq | Df | Pr(>Chisq) |\n",
       "|---|---|---|---|---|---|---|---|---|\n",
       "| sleepMod2.Null | 3            | 1916.541     | 1926.12      | -955.2705    | 1910.541     |       NA     | NA           |           NA |\n",
       "| sleepMod2 | 4            | 1802.079     | 1814.85      | -897.0393    | 1794.079     | 116.4624     |  1           | 3.764461e-27 |\n",
       "\n"
      ],
      "text/plain": [
       "               npar AIC      BIC     logLik    deviance Chisq    Df\n",
       "sleepMod2.Null 3    1916.541 1926.12 -955.2705 1910.541       NA NA\n",
       "sleepMod2      4    1802.079 1814.85 -897.0393 1794.079 116.4624  1\n",
       "               Pr(>Chisq)  \n",
       "sleepMod2.Null           NA\n",
       "sleepMod2      3.764461e-27"
      ]
     },
     "metadata": {},
     "output_type": "display_data"
    }
   ],
   "source": [
    "## Likelihood Ratio Test\n",
    "##Random Intercept Model Fixed Effect Significance\n",
    "sleepMod2<-lmer(Reaction ~ Days + (1|Subject), sleepDat, REML = FALSE)\n",
    "sleepMod2.Null<-lmer(Reaction ~ 1 + (1|Subject),sleepDat,REML = FALSE)\n",
    "anova(sleepMod2.Null, sleepMod2)"
   ]
  },
  {
   "cell_type": "code",
   "execution_count": 21,
   "metadata": {},
   "outputs": [
    {
     "name": "stdout",
     "output_type": "stream",
     "text": [
      "package 'RLRsim' successfully unpacked and MD5 sums checked\n",
      "\n",
      "The downloaded binary packages are in\n",
      "\tC:\\Users\\Swayanshu\\AppData\\Local\\Temp\\RtmpwFK61q\\downloaded_packages\n"
     ]
    }
   ],
   "source": [
    "install.packages(\"RLRsim\")"
   ]
  },
  {
   "cell_type": "code",
   "execution_count": 22,
   "metadata": {},
   "outputs": [
    {
     "name": "stderr",
     "output_type": "stream",
     "text": [
      "Warning message:\n",
      "\"package 'RLRsim' was built under R version 3.6.3\""
     ]
    },
    {
     "data": {
      "text/plain": [
       "\n",
       "\tsimulated finite sample distribution of RLRT.\n",
       "\t\n",
       "\t(p-value based on 10000 simulated values)\n",
       "\n",
       "data:  \n",
       "RLRT = 107.2, p-value < 2.2e-16\n"
      ]
     },
     "metadata": {},
     "output_type": "display_data"
    }
   ],
   "source": [
    "## Chi-Sq:116.46, Df=1, p-value:2.2e-16\n",
    "## Days is significant for the model\n",
    "## Likelihood Ratio Test\n",
    "## Fixed Effect Model Random effect Significance\n",
    "sleepMod2<-lmer(Reaction ~ Days + (1|Subject), sleepDat)\n",
    "library(RLRsim)\n",
    "exactRLRT(sleepMod2)\n"
   ]
  },
  {
   "cell_type": "code",
   "execution_count": 23,
   "metadata": {},
   "outputs": [
    {
     "data": {
      "text/html": [
       "<table>\n",
       "<thead><tr><th></th><th scope=col>npar</th><th scope=col>AIC</th><th scope=col>BIC</th><th scope=col>logLik</th><th scope=col>deviance</th><th scope=col>Chisq</th><th scope=col>Df</th><th scope=col>Pr(&gt;Chisq)</th></tr></thead>\n",
       "<tbody>\n",
       "\t<tr><th scope=row>sleepMod3.Null</th><td>5          </td><td>1785.476   </td><td>1801.441   </td><td>-887.7379  </td><td>1775.476   </td><td>      NA   </td><td>NA         </td><td>         NA</td></tr>\n",
       "\t<tr><th scope=row>sleepMod3</th><td>6          </td><td>1763.939   </td><td>1783.097   </td><td>-875.9697  </td><td>1751.939   </td><td>23.53654   </td><td> 1         </td><td>1.22564e-06</td></tr>\n",
       "</tbody>\n",
       "</table>\n"
      ],
      "text/latex": [
       "\\begin{tabular}{r|llllllll}\n",
       "  & npar & AIC & BIC & logLik & deviance & Chisq & Df & Pr(>Chisq)\\\\\n",
       "\\hline\n",
       "\tsleepMod3.Null & 5           & 1785.476    & 1801.441    & -887.7379   & 1775.476    &       NA    & NA          &          NA\\\\\n",
       "\tsleepMod3 & 6           & 1763.939    & 1783.097    & -875.9697   & 1751.939    & 23.53654    &  1          & 1.22564e-06\\\\\n",
       "\\end{tabular}\n"
      ],
      "text/markdown": [
       "\n",
       "| <!--/--> | npar | AIC | BIC | logLik | deviance | Chisq | Df | Pr(>Chisq) |\n",
       "|---|---|---|---|---|---|---|---|---|\n",
       "| sleepMod3.Null | 5           | 1785.476    | 1801.441    | -887.7379   | 1775.476    |       NA    | NA          |          NA |\n",
       "| sleepMod3 | 6           | 1763.939    | 1783.097    | -875.9697   | 1751.939    | 23.53654    |  1          | 1.22564e-06 |\n",
       "\n"
      ],
      "text/plain": [
       "               npar AIC      BIC      logLik    deviance Chisq    Df\n",
       "sleepMod3.Null 5    1785.476 1801.441 -887.7379 1775.476       NA NA\n",
       "sleepMod3      6    1763.939 1783.097 -875.9697 1751.939 23.53654  1\n",
       "               Pr(>Chisq) \n",
       "sleepMod3.Null          NA\n",
       "sleepMod3      1.22564e-06"
      ]
     },
     "metadata": {},
     "output_type": "display_data"
    }
   ],
   "source": [
    "## P-Value <2.2e-16 is evidence the random effect is non zero\n",
    "## Likelihood Ratio Test\n",
    "## Random Slope Model\n",
    "sleepMod3<-lmer(Reaction ~ Days + (Days|Subject), sleepDat, REML = FALSE)\n",
    "sleepMod3.Null<-lmer(Reaction~1 + (Days|Subject), sleepDat, REML=FALSE)\n",
    "sleepMod3.RanNull<-lm(Reaction~Days, sleepDat)\n",
    "anova(sleepMod3.Null, sleepMod3)"
   ]
  },
  {
   "cell_type": "code",
   "execution_count": 24,
   "metadata": {},
   "outputs": [
    {
     "data": {
      "text/plain": [
       "\n",
       "\tsimulated finite sample distribution of RLRT.\n",
       "\t\n",
       "\t(p-value based on 10000 simulated values)\n",
       "\n",
       "data:  \n",
       "RLRT = 42.796, p-value < 2.2e-16\n"
      ]
     },
     "metadata": {},
     "output_type": "display_data"
    }
   ],
   "source": [
    "## Chi-Square: 23.537, Df=1, P-Value:1.226e-06\n",
    "## Days is significant in the model\n",
    "## Restricted Likelihood Ratio Test\n",
    "## Random Slope Effect test for significance\n",
    "sleepMod2<-lmer(Reaction ~ Days + (1|Subject), sleepDat)\n",
    "mA <- update(sleepMod2, .~. + (0 + Days|Subject))\n",
    "mSlope <- update(mA, .~. - (1|Subject))\n",
    "exactRLRT(mSlope, mA, m0=sleepMod2)\n"
   ]
  },
  {
   "cell_type": "code",
   "execution_count": 25,
   "metadata": {},
   "outputs": [
    {
     "data": {
      "image/png": "[encoded data removed]",
      "text/plain": [
       "Plot with title \"\""
      ]
     },
     "metadata": {},
     "output_type": "display_data"
    },
    {
     "data": {
      "image/png": "[encoded data removed]",
      "text/plain": [
       "Plot with title \"\""
      ]
     },
     "metadata": {},
     "output_type": "display_data"
    },
    {
     "data": {
      "image/png": "[encoded data removed]",
      "text/plain": [
       "Plot with title \"\""
      ]
     },
     "metadata": {},
     "output_type": "display_data"
    },
    {
     "data": {
      "image/png": "[encoded data removed]",
      "text/plain": [
       "Plot with title \"\""
      ]
     },
     "metadata": {},
     "output_type": "display_data"
    },
    {
     "data": {
      "image/png": "[encoded data removed]",
      "text/plain": [
       "plot without title"
      ]
     },
     "metadata": {},
     "output_type": "display_data"
    }
   ],
   "source": [
    "## Checking assumptions\n",
    "plot(sleepMod1)\n",
    "library(car)\n",
    "influenceIndexPlot(sleepMod1)"
   ]
  },
  {
   "cell_type": "code",
   "execution_count": 26,
   "metadata": {
    "scrolled": true
   },
   "outputs": [
    {
     "data": {
      "image/png": "[encoded data removed]",
      "text/plain": [
       "plot without title"
      ]
     },
     "metadata": {},
     "output_type": "display_data"
    },
    {
     "data": {
      "image/png": "[encoded data removed]",
      "text/plain": [
       "Plot with title \"Normal Q-Q Plot\""
      ]
     },
     "metadata": {},
     "output_type": "display_data"
    }
   ],
   "source": [
    "plot(sleepMod2)\n",
    "qqnorm(resid(sleepMod2))\n",
    "qqline(resid(sleepMod2))\n"
   ]
  },
  {
   "cell_type": "code",
   "execution_count": 27,
   "metadata": {
    "scrolled": true
   },
   "outputs": [
    {
     "data": {
      "image/png": "[encoded data removed]",
      "text/plain": [
       "plot without title"
      ]
     },
     "metadata": {},
     "output_type": "display_data"
    },
    {
     "data": {
      "image/png": "[encoded data removed]",
      "text/plain": [
       "Plot with title \"Normal Q-Q Plot\""
      ]
     },
     "metadata": {},
     "output_type": "display_data"
    }
   ],
   "source": [
    "plot(sleepMod3)\n",
    "qqnorm(resid(sleepMod3))\n",
    "qqline(resid(sleepMod3))\n"
   ]
  },
  {
   "cell_type": "code",
   "execution_count": 43,
   "metadata": {},
   "outputs": [
    {
     "ename": "ERROR",
     "evalue": "Error in predictInterval(fm1, sleepstudy, which = c(\"full\", \"fixed\", \"random\", : could not find function \"predictInterval\"\n",
     "output_type": "error",
     "traceback": [
      "Error in predictInterval(fm1, sleepstudy, which = c(\"full\", \"fixed\", \"random\", : could not find function \"predictInterval\"\nTraceback:\n"
     ]
    }
   ],
   "source": [
    "predictInterval(\n",
    "  fm1,\n",
    "  sleepstudy,\n",
    "  which = c(\"full\", \"fixed\", \"random\", \"all\"),\n",
    "  level = 0.8,\n",
    "  n.sims = 1000,\n",
    "  stat = c(\"median\", \"mean\"),\n",
    "  type = c(\"linear.prediction\", \"probability\"),\n",
    "  include.resid.var = TRUE,\n",
    "  returnSims = FALSE,\n",
    "  seed = NULL,\n",
    "  .parallel = FALSE,\n",
    "  .paropts = NULL,\n",
    "  fix.intercept.variance = FALSE,\n",
    "  ignore.fixed.terms = NULL\n",
    ")"
   ]
  },
  {
   "cell_type": "code",
   "execution_count": 1,
   "metadata": {
    "scrolled": true
   },
   "outputs": [
    {
     "name": "stderr",
     "output_type": "stream",
     "text": [
      "Warning message:\n",
      "\"package 'merTools' was built under R version 3.6.3\"Loading required package: arm\n",
      "Warning message:\n",
      "\"package 'arm' was built under R version 3.6.3\"Loading required package: MASS\n",
      "Warning message:\n",
      "\"package 'MASS' was built under R version 3.6.3\"Loading required package: Matrix\n",
      "Loading required package: lme4\n",
      "Warning message:\n",
      "\"package 'lme4' was built under R version 3.6.3\"\n",
      "arm (Version 1.11-2, built: 2020-7-27)\n",
      "\n",
      "Working directory is C:/Users/Swayanshu\n",
      "\n",
      "Warning message in checkMatrixPackageVersion():\n",
      "\"Package version inconsistency detected.\n",
      "TMB was built with Matrix version 1.3.2\n",
      "Current Matrix version is 1.2.17\n",
      "Please re-install 'TMB' from source using install.packages('TMB', type = 'source') or ask CRAN for a binary version of 'TMB' matching CRAN's 'Matrix' package\"Registered S3 method overwritten by 'broom.mixed':\n",
      "  method      from \n",
      "  tidy.gamlss broom\n"
     ]
    },
    {
     "data": {
      "text/html": [
       "<table>\n",
       "<thead><tr><th></th><th scope=col>groupFctr</th><th scope=col>groupLevel</th><th scope=col>term</th><th scope=col>estimate</th><th scope=col>std.error</th><th scope=col>ER</th><th scope=col>pctER</th></tr></thead>\n",
       "<tbody>\n",
       "\t<tr><th scope=row>2</th><td>Subject   </td><td>308       </td><td>Intercept </td><td> 40.783710</td><td>89.78829  </td><td>16.505317 </td><td>89        </td></tr>\n",
       "\t<tr><th scope=row>3</th><td>Subject   </td><td>309       </td><td>Intercept </td><td>-77.849554</td><td>89.78829  </td><td> 1.143216 </td><td> 4        </td></tr>\n",
       "\t<tr><th scope=row>4</th><td>Subject   </td><td>310       </td><td>Intercept </td><td>-63.108567</td><td>89.78829  </td><td> 1.956973 </td><td> 8        </td></tr>\n",
       "\t<tr><th scope=row>5</th><td>Subject   </td><td>330       </td><td>Intercept </td><td>  4.406442</td><td>89.78829  </td><td> 9.733335 </td><td>51        </td></tr>\n",
       "\t<tr><th scope=row>6</th><td>Subject   </td><td>331       </td><td>Intercept </td><td> 10.216189</td><td>89.78829  </td><td>11.315372 </td><td>60        </td></tr>\n",
       "\t<tr><th scope=row>7</th><td>Subject   </td><td>332       </td><td>Intercept </td><td>  8.221238</td><td>89.78829  </td><td>10.778396 </td><td>57        </td></tr>\n",
       "\t<tr><th scope=row>8</th><td>Subject   </td><td>333       </td><td>Intercept </td><td> 16.500494</td><td>89.78829  </td><td>12.891828 </td><td>69        </td></tr>\n",
       "\t<tr><th scope=row>9</th><td>Subject   </td><td>334       </td><td>Intercept </td><td> -2.996981</td><td>89.78829  </td><td> 7.775808 </td><td>40        </td></tr>\n",
       "\t<tr><th scope=row>10</th><td>Subject   </td><td>335       </td><td>Intercept </td><td>-45.282127</td><td>89.78829  </td><td> 2.943212 </td><td>14        </td></tr>\n",
       "\t<tr><th scope=row>11</th><td>Subject   </td><td>337       </td><td>Intercept </td><td> 72.182686</td><td>89.78829  </td><td>17.986611 </td><td>97        </td></tr>\n",
       "\t<tr><th scope=row>12</th><td>Subject   </td><td>349       </td><td>Intercept </td><td>-21.196249</td><td>89.78829  </td><td> 4.512555 </td><td>22        </td></tr>\n",
       "\t<tr><th scope=row>13</th><td>Subject   </td><td>350       </td><td>Intercept </td><td> 14.111363</td><td>89.78829  </td><td>12.318474 </td><td>66        </td></tr>\n",
       "\t<tr><th scope=row>14</th><td>Subject   </td><td>351       </td><td>Intercept </td><td> -7.862221</td><td>89.78829  </td><td> 6.646553 </td><td>34        </td></tr>\n",
       "\t<tr><th scope=row>15</th><td>Subject   </td><td>352       </td><td>Intercept </td><td> 36.378425</td><td>89.78829  </td><td>16.100752 </td><td>87        </td></tr>\n",
       "\t<tr><th scope=row>16</th><td>Subject   </td><td>369       </td><td>Intercept </td><td>  7.036381</td><td>89.78829  </td><td>10.455114 </td><td>55        </td></tr>\n",
       "\t<tr><th scope=row>17</th><td>Subject   </td><td>370       </td><td>Intercept </td><td> -6.362703</td><td>89.78829  </td><td> 6.976625 </td><td>36        </td></tr>\n",
       "\t<tr><th scope=row>18</th><td>Subject   </td><td>371       </td><td>Intercept </td><td> -3.294273</td><td>89.78829  </td><td> 7.702259 </td><td>40        </td></tr>\n",
       "\t<tr><th scope=row>19</th><td>Subject   </td><td>372       </td><td>Intercept </td><td> 18.115747</td><td>89.78829  </td><td>13.257599 </td><td>71        </td></tr>\n",
       "</tbody>\n",
       "</table>\n"
      ],
      "text/latex": [
       "\\begin{tabular}{r|lllllll}\n",
       "  & groupFctr & groupLevel & term & estimate & std.error & ER & pctER\\\\\n",
       "\\hline\n",
       "\t2 & Subject    & 308        & Intercept  &  40.783710 & 89.78829   & 16.505317  & 89        \\\\\n",
       "\t3 & Subject    & 309        & Intercept  & -77.849554 & 89.78829   &  1.143216  &  4        \\\\\n",
       "\t4 & Subject    & 310        & Intercept  & -63.108567 & 89.78829   &  1.956973  &  8        \\\\\n",
       "\t5 & Subject    & 330        & Intercept  &   4.406442 & 89.78829   &  9.733335  & 51        \\\\\n",
       "\t6 & Subject    & 331        & Intercept  &  10.216189 & 89.78829   & 11.315372  & 60        \\\\\n",
       "\t7 & Subject    & 332        & Intercept  &   8.221238 & 89.78829   & 10.778396  & 57        \\\\\n",
       "\t8 & Subject    & 333        & Intercept  &  16.500494 & 89.78829   & 12.891828  & 69        \\\\\n",
       "\t9 & Subject    & 334        & Intercept  &  -2.996981 & 89.78829   &  7.775808  & 40        \\\\\n",
       "\t10 & Subject    & 335        & Intercept  & -45.282127 & 89.78829   &  2.943212  & 14        \\\\\n",
       "\t11 & Subject    & 337        & Intercept  &  72.182686 & 89.78829   & 17.986611  & 97        \\\\\n",
       "\t12 & Subject    & 349        & Intercept  & -21.196249 & 89.78829   &  4.512555  & 22        \\\\\n",
       "\t13 & Subject    & 350        & Intercept  &  14.111363 & 89.78829   & 12.318474  & 66        \\\\\n",
       "\t14 & Subject    & 351        & Intercept  &  -7.862221 & 89.78829   &  6.646553  & 34        \\\\\n",
       "\t15 & Subject    & 352        & Intercept  &  36.378425 & 89.78829   & 16.100752  & 87        \\\\\n",
       "\t16 & Subject    & 369        & Intercept  &   7.036381 & 89.78829   & 10.455114  & 55        \\\\\n",
       "\t17 & Subject    & 370        & Intercept  &  -6.362703 & 89.78829   &  6.976625  & 36        \\\\\n",
       "\t18 & Subject    & 371        & Intercept  &  -3.294273 & 89.78829   &  7.702259  & 40        \\\\\n",
       "\t19 & Subject    & 372        & Intercept  &  18.115747 & 89.78829   & 13.257599  & 71        \\\\\n",
       "\\end{tabular}\n"
      ],
      "text/markdown": [
       "\n",
       "| <!--/--> | groupFctr | groupLevel | term | estimate | std.error | ER | pctER |\n",
       "|---|---|---|---|---|---|---|---|\n",
       "| 2 | Subject    | 308        | Intercept  |  40.783710 | 89.78829   | 16.505317  | 89         |\n",
       "| 3 | Subject    | 309        | Intercept  | -77.849554 | 89.78829   |  1.143216  |  4         |\n",
       "| 4 | Subject    | 310        | Intercept  | -63.108567 | 89.78829   |  1.956973  |  8         |\n",
       "| 5 | Subject    | 330        | Intercept  |   4.406442 | 89.78829   |  9.733335  | 51         |\n",
       "| 6 | Subject    | 331        | Intercept  |  10.216189 | 89.78829   | 11.315372  | 60         |\n",
       "| 7 | Subject    | 332        | Intercept  |   8.221238 | 89.78829   | 10.778396  | 57         |\n",
       "| 8 | Subject    | 333        | Intercept  |  16.500494 | 89.78829   | 12.891828  | 69         |\n",
       "| 9 | Subject    | 334        | Intercept  |  -2.996981 | 89.78829   |  7.775808  | 40         |\n",
       "| 10 | Subject    | 335        | Intercept  | -45.282127 | 89.78829   |  2.943212  | 14         |\n",
       "| 11 | Subject    | 337        | Intercept  |  72.182686 | 89.78829   | 17.986611  | 97         |\n",
       "| 12 | Subject    | 349        | Intercept  | -21.196249 | 89.78829   |  4.512555  | 22         |\n",
       "| 13 | Subject    | 350        | Intercept  |  14.111363 | 89.78829   | 12.318474  | 66         |\n",
       "| 14 | Subject    | 351        | Intercept  |  -7.862221 | 89.78829   |  6.646553  | 34         |\n",
       "| 15 | Subject    | 352        | Intercept  |  36.378425 | 89.78829   | 16.100752  | 87         |\n",
       "| 16 | Subject    | 369        | Intercept  |   7.036381 | 89.78829   | 10.455114  | 55         |\n",
       "| 17 | Subject    | 370        | Intercept  |  -6.362703 | 89.78829   |  6.976625  | 36         |\n",
       "| 18 | Subject    | 371        | Intercept  |  -3.294273 | 89.78829   |  7.702259  | 40         |\n",
       "| 19 | Subject    | 372        | Intercept  |  18.115747 | 89.78829   | 13.257599  | 71         |\n",
       "\n"
      ],
      "text/plain": [
       "   groupFctr groupLevel term      estimate   std.error ER        pctER\n",
       "2  Subject   308        Intercept  40.783710 89.78829  16.505317 89   \n",
       "3  Subject   309        Intercept -77.849554 89.78829   1.143216  4   \n",
       "4  Subject   310        Intercept -63.108567 89.78829   1.956973  8   \n",
       "5  Subject   330        Intercept   4.406442 89.78829   9.733335 51   \n",
       "6  Subject   331        Intercept  10.216189 89.78829  11.315372 60   \n",
       "7  Subject   332        Intercept   8.221238 89.78829  10.778396 57   \n",
       "8  Subject   333        Intercept  16.500494 89.78829  12.891828 69   \n",
       "9  Subject   334        Intercept  -2.996981 89.78829   7.775808 40   \n",
       "10 Subject   335        Intercept -45.282127 89.78829   2.943212 14   \n",
       "11 Subject   337        Intercept  72.182686 89.78829  17.986611 97   \n",
       "12 Subject   349        Intercept -21.196249 89.78829   4.512555 22   \n",
       "13 Subject   350        Intercept  14.111363 89.78829  12.318474 66   \n",
       "14 Subject   351        Intercept  -7.862221 89.78829   6.646553 34   \n",
       "15 Subject   352        Intercept  36.378425 89.78829  16.100752 87   \n",
       "16 Subject   369        Intercept   7.036381 89.78829  10.455114 55   \n",
       "17 Subject   370        Intercept  -6.362703 89.78829   6.976625 36   \n",
       "18 Subject   371        Intercept  -3.294273 89.78829   7.702259 40   \n",
       "19 Subject   372        Intercept  18.115747 89.78829  13.257599 71   "
      ]
     },
     "metadata": {},
     "output_type": "display_data"
    },
    {
     "data": {
      "text/html": [
       "<table>\n",
       "<thead><tr><th></th><th scope=col>groupFctr</th><th scope=col>groupLevel</th><th scope=col>term</th><th scope=col>estimate</th><th scope=col>std.error</th><th scope=col>ER</th><th scope=col>pctER</th></tr></thead>\n",
       "<tbody>\n",
       "\t<tr><th scope=row>2</th><td>Subject    </td><td>308        </td><td>Days       </td><td>  9.1989758</td><td>5.312283   </td><td>17.193775  </td><td>93         </td></tr>\n",
       "\t<tr><th scope=row>3</th><td>Subject    </td><td>309        </td><td>Days       </td><td> -8.6196806</td><td>5.312283   </td><td> 2.143182  </td><td> 9         </td></tr>\n",
       "\t<tr><th scope=row>4</th><td>Subject    </td><td>310        </td><td>Days       </td><td> -5.4488565</td><td>5.312283   </td><td> 3.955480  </td><td>19         </td></tr>\n",
       "\t<tr><th scope=row>5</th><td>Subject    </td><td>330        </td><td>Days       </td><td> -4.8143503</td><td>5.312283   </td><td> 4.436360  </td><td>22         </td></tr>\n",
       "\t<tr><th scope=row>6</th><td>Subject    </td><td>331        </td><td>Days       </td><td> -3.0699116</td><td>5.312283   </td><td> 5.992067  </td><td>31         </td></tr>\n",
       "\t<tr><th scope=row>7</th><td>Subject    </td><td>332        </td><td>Days       </td><td> -0.2721770</td><td>5.312283   </td><td> 9.092286  </td><td>48         </td></tr>\n",
       "\t<tr><th scope=row>8</th><td>Subject    </td><td>333        </td><td>Days       </td><td> -0.2236361</td><td>5.312283   </td><td> 9.149805  </td><td>48         </td></tr>\n",
       "\t<tr><th scope=row>9</th><td>Subject    </td><td>334        </td><td>Days       </td><td>  1.0745816</td><td>5.312283   </td><td>10.683791  </td><td>57         </td></tr>\n",
       "\t<tr><th scope=row>10</th><td>Subject    </td><td>335        </td><td>Days       </td><td>-10.7521652</td><td>5.312283   </td><td> 1.363832  </td><td> 5         </td></tr>\n",
       "\t<tr><th scope=row>11</th><td>Subject    </td><td>337        </td><td>Days       </td><td>  8.6282652</td><td>5.312283   </td><td>16.931028  </td><td>91         </td></tr>\n",
       "\t<tr><th scope=row>12</th><td>Subject    </td><td>349        </td><td>Days       </td><td>  1.1734322</td><td>5.312283   </td><td>10.798715  </td><td>57         </td></tr>\n",
       "\t<tr><th scope=row>13</th><td>Subject    </td><td>350        </td><td>Days       </td><td>  6.6142178</td><td>5.312283   </td><td>15.787741  </td><td>85         </td></tr>\n",
       "\t<tr><th scope=row>14</th><td>Subject    </td><td>351        </td><td>Days       </td><td> -3.0152621</td><td>5.312283   </td><td> 6.046279  </td><td>31         </td></tr>\n",
       "\t<tr><th scope=row>15</th><td>Subject    </td><td>352        </td><td>Days       </td><td>  3.5360011</td><td>5.312283   </td><td>13.328144  </td><td>71         </td></tr>\n",
       "\t<tr><th scope=row>16</th><td>Subject    </td><td>369        </td><td>Days       </td><td>  0.8722149</td><td>5.312283   </td><td>10.447188  </td><td>55         </td></tr>\n",
       "\t<tr><th scope=row>17</th><td>Subject    </td><td>370        </td><td>Days       </td><td>  4.8224850</td><td>5.312283   </td><td>14.472365  </td><td>78         </td></tr>\n",
       "\t<tr><th scope=row>18</th><td>Subject    </td><td>371        </td><td>Days       </td><td> -0.9881562</td><td>5.312283   </td><td> 8.251247  </td><td>43         </td></tr>\n",
       "\t<tr><th scope=row>19</th><td>Subject    </td><td>372        </td><td>Days       </td><td>  1.2840221</td><td>5.312283   </td><td>10.926714  </td><td>58         </td></tr>\n",
       "</tbody>\n",
       "</table>\n"
      ],
      "text/latex": [
       "\\begin{tabular}{r|lllllll}\n",
       "  & groupFctr & groupLevel & term & estimate & std.error & ER & pctER\\\\\n",
       "\\hline\n",
       "\t2 & Subject     & 308         & Days        &   9.1989758 & 5.312283    & 17.193775   & 93         \\\\\n",
       "\t3 & Subject     & 309         & Days        &  -8.6196806 & 5.312283    &  2.143182   &  9         \\\\\n",
       "\t4 & Subject     & 310         & Days        &  -5.4488565 & 5.312283    &  3.955480   & 19         \\\\\n",
       "\t5 & Subject     & 330         & Days        &  -4.8143503 & 5.312283    &  4.436360   & 22         \\\\\n",
       "\t6 & Subject     & 331         & Days        &  -3.0699116 & 5.312283    &  5.992067   & 31         \\\\\n",
       "\t7 & Subject     & 332         & Days        &  -0.2721770 & 5.312283    &  9.092286   & 48         \\\\\n",
       "\t8 & Subject     & 333         & Days        &  -0.2236361 & 5.312283    &  9.149805   & 48         \\\\\n",
       "\t9 & Subject     & 334         & Days        &   1.0745816 & 5.312283    & 10.683791   & 57         \\\\\n",
       "\t10 & Subject     & 335         & Days        & -10.7521652 & 5.312283    &  1.363832   &  5         \\\\\n",
       "\t11 & Subject     & 337         & Days        &   8.6282652 & 5.312283    & 16.931028   & 91         \\\\\n",
       "\t12 & Subject     & 349         & Days        &   1.1734322 & 5.312283    & 10.798715   & 57         \\\\\n",
       "\t13 & Subject     & 350         & Days        &   6.6142178 & 5.312283    & 15.787741   & 85         \\\\\n",
       "\t14 & Subject     & 351         & Days        &  -3.0152621 & 5.312283    &  6.046279   & 31         \\\\\n",
       "\t15 & Subject     & 352         & Days        &   3.5360011 & 5.312283    & 13.328144   & 71         \\\\\n",
       "\t16 & Subject     & 369         & Days        &   0.8722149 & 5.312283    & 10.447188   & 55         \\\\\n",
       "\t17 & Subject     & 370         & Days        &   4.8224850 & 5.312283    & 14.472365   & 78         \\\\\n",
       "\t18 & Subject     & 371         & Days        &  -0.9881562 & 5.312283    &  8.251247   & 43         \\\\\n",
       "\t19 & Subject     & 372         & Days        &   1.2840221 & 5.312283    & 10.926714   & 58         \\\\\n",
       "\\end{tabular}\n"
      ],
      "text/markdown": [
       "\n",
       "| <!--/--> | groupFctr | groupLevel | term | estimate | std.error | ER | pctER |\n",
       "|---|---|---|---|---|---|---|---|\n",
       "| 2 | Subject     | 308         | Days        |   9.1989758 | 5.312283    | 17.193775   | 93          |\n",
       "| 3 | Subject     | 309         | Days        |  -8.6196806 | 5.312283    |  2.143182   |  9          |\n",
       "| 4 | Subject     | 310         | Days        |  -5.4488565 | 5.312283    |  3.955480   | 19          |\n",
       "| 5 | Subject     | 330         | Days        |  -4.8143503 | 5.312283    |  4.436360   | 22          |\n",
       "| 6 | Subject     | 331         | Days        |  -3.0699116 | 5.312283    |  5.992067   | 31          |\n",
       "| 7 | Subject     | 332         | Days        |  -0.2721770 | 5.312283    |  9.092286   | 48          |\n",
       "| 8 | Subject     | 333         | Days        |  -0.2236361 | 5.312283    |  9.149805   | 48          |\n",
       "| 9 | Subject     | 334         | Days        |   1.0745816 | 5.312283    | 10.683791   | 57          |\n",
       "| 10 | Subject     | 335         | Days        | -10.7521652 | 5.312283    |  1.363832   |  5          |\n",
       "| 11 | Subject     | 337         | Days        |   8.6282652 | 5.312283    | 16.931028   | 91          |\n",
       "| 12 | Subject     | 349         | Days        |   1.1734322 | 5.312283    | 10.798715   | 57          |\n",
       "| 13 | Subject     | 350         | Days        |   6.6142178 | 5.312283    | 15.787741   | 85          |\n",
       "| 14 | Subject     | 351         | Days        |  -3.0152621 | 5.312283    |  6.046279   | 31          |\n",
       "| 15 | Subject     | 352         | Days        |   3.5360011 | 5.312283    | 13.328144   | 71          |\n",
       "| 16 | Subject     | 369         | Days        |   0.8722149 | 5.312283    | 10.447188   | 55          |\n",
       "| 17 | Subject     | 370         | Days        |   4.8224850 | 5.312283    | 14.472365   | 78          |\n",
       "| 18 | Subject     | 371         | Days        |  -0.9881562 | 5.312283    |  8.251247   | 43          |\n",
       "| 19 | Subject     | 372         | Days        |   1.2840221 | 5.312283    | 10.926714   | 58          |\n",
       "\n"
      ],
      "text/plain": [
       "   groupFctr groupLevel term estimate    std.error ER        pctER\n",
       "2  Subject   308        Days   9.1989758 5.312283  17.193775 93   \n",
       "3  Subject   309        Days  -8.6196806 5.312283   2.143182  9   \n",
       "4  Subject   310        Days  -5.4488565 5.312283   3.955480 19   \n",
       "5  Subject   330        Days  -4.8143503 5.312283   4.436360 22   \n",
       "6  Subject   331        Days  -3.0699116 5.312283   5.992067 31   \n",
       "7  Subject   332        Days  -0.2721770 5.312283   9.092286 48   \n",
       "8  Subject   333        Days  -0.2236361 5.312283   9.149805 48   \n",
       "9  Subject   334        Days   1.0745816 5.312283  10.683791 57   \n",
       "10 Subject   335        Days -10.7521652 5.312283   1.363832  5   \n",
       "11 Subject   337        Days   8.6282652 5.312283  16.931028 91   \n",
       "12 Subject   349        Days   1.1734322 5.312283  10.798715 57   \n",
       "13 Subject   350        Days   6.6142178 5.312283  15.787741 85   \n",
       "14 Subject   351        Days  -3.0152621 5.312283   6.046279 31   \n",
       "15 Subject   352        Days   3.5360011 5.312283  13.328144 71   \n",
       "16 Subject   369        Days   0.8722149 5.312283  10.447188 55   \n",
       "17 Subject   370        Days   4.8224850 5.312283  14.472365 78   \n",
       "18 Subject   371        Days  -0.9881562 5.312283   8.251247 43   \n",
       "19 Subject   372        Days   1.2840221 5.312283  10.926714 58   "
      ]
     },
     "metadata": {},
     "output_type": "display_data"
    }
   ],
   "source": [
    "#install.packages(\"merTools\")\n",
    "library(merTools)\n",
    "data(sleepstudy)\n",
    "#For a one-level random intercept model\n",
    "m1 <- lmer(Reaction ~ Days + (1 | Subject), sleepstudy)\n",
    "(m1.er <- expectedRank(m1))\n",
    "#For a one-level random intercept model with multiple random terms\n",
    "m2 <- lmer(Reaction ~ Days + (Days | Subject), sleepstudy)\n",
    "#ranked by the random slope on Days\n",
    "(m2.er1 <- expectedRank(m2, term=\"Days\"))"
   ]
  },
  {
   "cell_type": "code",
   "execution_count": 2,
   "metadata": {},
   "outputs": [
    {
     "data": {
      "text/plain": [
       "Linear mixed model fit by REML ['lmerMod']\n",
       "Formula: Reaction ~ 1 + (1 | Subject)\n",
       "   Data: sleepstudy\n",
       "REML criterion at convergence: 1904.326\n",
       "Random effects:\n",
       " Groups   Name        Std.Dev.\n",
       " Subject  (Intercept) 35.75   \n",
       " Residual             44.26   \n",
       "Number of obs: 180, groups:  Subject, 18\n",
       "Fixed Effects:\n",
       "(Intercept)  \n",
       "      298.5  "
      ]
     },
     "metadata": {},
     "output_type": "display_data"
    }
   ],
   "source": [
    "lmer(Reaction ~ 1 + (1 | Subject), data=sleepstudy)"
   ]
  },
  {
   "cell_type": "code",
   "execution_count": 47,
   "metadata": {},
   "outputs": [
    {
     "data": {
      "text/html": [
       "<table>\n",
       "<thead><tr><th></th><th scope=col>groupFctr</th><th scope=col>groupLevel</th><th scope=col>term</th><th scope=col>estimate</th><th scope=col>std.error</th><th scope=col>ER</th><th scope=col>pctER</th></tr></thead>\n",
       "<tbody>\n",
       "\t<tr><th scope=row>2</th><td>Subject    </td><td>308        </td><td>Intercept  </td><td>  2.2585509</td><td>145.7056   </td><td> 9.634715  </td><td>51         </td></tr>\n",
       "\t<tr><th scope=row>3</th><td>Subject    </td><td>309        </td><td>Intercept  </td><td>-40.3987381</td><td>145.7056   </td><td> 1.963880  </td><td> 8         </td></tr>\n",
       "\t<tr><th scope=row>4</th><td>Subject    </td><td>310        </td><td>Intercept  </td><td>-38.9604090</td><td>145.7056   </td><td> 2.103740  </td><td> 9         </td></tr>\n",
       "\t<tr><th scope=row>5</th><td>Subject    </td><td>330        </td><td>Intercept  </td><td> 23.6906196</td><td>145.7056   </td><td>14.986408  </td><td>80         </td></tr>\n",
       "\t<tr><th scope=row>6</th><td>Subject    </td><td>331        </td><td>Intercept  </td><td> 22.2603126</td><td>145.7056   </td><td>14.686185  </td><td>79         </td></tr>\n",
       "\t<tr><th scope=row>7</th><td>Subject    </td><td>332        </td><td>Intercept  </td><td>  9.0395679</td><td>145.7056   </td><td>11.439297  </td><td>61         </td></tr>\n",
       "\t<tr><th scope=row>8</th><td>Subject    </td><td>333        </td><td>Intercept  </td><td> 16.8405086</td><td>145.7056   </td><td>13.441698  </td><td>72         </td></tr>\n",
       "\t<tr><th scope=row>9</th><td>Subject    </td><td>334        </td><td>Intercept  </td><td> -7.2326151</td><td>145.7056   </td><td> 7.263233  </td><td>38         </td></tr>\n",
       "\t<tr><th scope=row>10</th><td>Subject    </td><td>335        </td><td>Intercept  </td><td> -0.3336684</td><td>145.7056   </td><td> 8.959311  </td><td>47         </td></tr>\n",
       "\t<tr><th scope=row>11</th><td>Subject    </td><td>337        </td><td>Intercept  </td><td> 34.8904868</td><td>145.7056   </td><td>16.855604  </td><td>91         </td></tr>\n",
       "\t<tr><th scope=row>12</th><td>Subject    </td><td>349        </td><td>Intercept  </td><td>-25.2102286</td><td>145.7056   </td><td> 3.826869  </td><td>18         </td></tr>\n",
       "\t<tr><th scope=row>13</th><td>Subject    </td><td>350        </td><td>Intercept  </td><td>-13.0700342</td><td>145.7056   </td><td> 5.984189  </td><td>30         </td></tr>\n",
       "\t<tr><th scope=row>14</th><td>Subject    </td><td>351        </td><td>Intercept  </td><td>  4.5778642</td><td>145.7056   </td><td>10.249262  </td><td>54         </td></tr>\n",
       "\t<tr><th scope=row>15</th><td>Subject    </td><td>352        </td><td>Intercept  </td><td> 20.8636782</td><td>145.7056   </td><td>14.380943  </td><td>77         </td></tr>\n",
       "\t<tr><th scope=row>16</th><td>Subject    </td><td>369        </td><td>Intercept  </td><td>  3.2754656</td><td>145.7056   </td><td> 9.903284  </td><td>52         </td></tr>\n",
       "\t<tr><th scope=row>17</th><td>Subject    </td><td>370        </td><td>Intercept  </td><td>-25.6129993</td><td>145.7056   </td><td> 3.766171  </td><td>18         </td></tr>\n",
       "\t<tr><th scope=row>18</th><td>Subject    </td><td>371        </td><td>Intercept  </td><td>  0.8070461</td><td>145.7056   </td><td> 9.254643  </td><td>49         </td></tr>\n",
       "\t<tr><th scope=row>19</th><td>Subject    </td><td>372        </td><td>Intercept  </td><td> 12.3145921</td><td>145.7056   </td><td>12.300567  </td><td>66         </td></tr>\n",
       "</tbody>\n",
       "</table>\n"
      ],
      "text/latex": [
       "\\begin{tabular}{r|lllllll}\n",
       "  & groupFctr & groupLevel & term & estimate & std.error & ER & pctER\\\\\n",
       "\\hline\n",
       "\t2 & Subject     & 308         & Intercept   &   2.2585509 & 145.7056    &  9.634715   & 51         \\\\\n",
       "\t3 & Subject     & 309         & Intercept   & -40.3987381 & 145.7056    &  1.963880   &  8         \\\\\n",
       "\t4 & Subject     & 310         & Intercept   & -38.9604090 & 145.7056    &  2.103740   &  9         \\\\\n",
       "\t5 & Subject     & 330         & Intercept   &  23.6906196 & 145.7056    & 14.986408   & 80         \\\\\n",
       "\t6 & Subject     & 331         & Intercept   &  22.2603126 & 145.7056    & 14.686185   & 79         \\\\\n",
       "\t7 & Subject     & 332         & Intercept   &   9.0395679 & 145.7056    & 11.439297   & 61         \\\\\n",
       "\t8 & Subject     & 333         & Intercept   &  16.8405086 & 145.7056    & 13.441698   & 72         \\\\\n",
       "\t9 & Subject     & 334         & Intercept   &  -7.2326151 & 145.7056    &  7.263233   & 38         \\\\\n",
       "\t10 & Subject     & 335         & Intercept   &  -0.3336684 & 145.7056    &  8.959311   & 47         \\\\\n",
       "\t11 & Subject     & 337         & Intercept   &  34.8904868 & 145.7056    & 16.855604   & 91         \\\\\n",
       "\t12 & Subject     & 349         & Intercept   & -25.2102286 & 145.7056    &  3.826869   & 18         \\\\\n",
       "\t13 & Subject     & 350         & Intercept   & -13.0700342 & 145.7056    &  5.984189   & 30         \\\\\n",
       "\t14 & Subject     & 351         & Intercept   &   4.5778642 & 145.7056    & 10.249262   & 54         \\\\\n",
       "\t15 & Subject     & 352         & Intercept   &  20.8636782 & 145.7056    & 14.380943   & 77         \\\\\n",
       "\t16 & Subject     & 369         & Intercept   &   3.2754656 & 145.7056    &  9.903284   & 52         \\\\\n",
       "\t17 & Subject     & 370         & Intercept   & -25.6129993 & 145.7056    &  3.766171   & 18         \\\\\n",
       "\t18 & Subject     & 371         & Intercept   &   0.8070461 & 145.7056    &  9.254643   & 49         \\\\\n",
       "\t19 & Subject     & 372         & Intercept   &  12.3145921 & 145.7056    & 12.300567   & 66         \\\\\n",
       "\\end{tabular}\n"
      ],
      "text/markdown": [
       "\n",
       "| <!--/--> | groupFctr | groupLevel | term | estimate | std.error | ER | pctER |\n",
       "|---|---|---|---|---|---|---|---|\n",
       "| 2 | Subject     | 308         | Intercept   |   2.2585509 | 145.7056    |  9.634715   | 51          |\n",
       "| 3 | Subject     | 309         | Intercept   | -40.3987381 | 145.7056    |  1.963880   |  8          |\n",
       "| 4 | Subject     | 310         | Intercept   | -38.9604090 | 145.7056    |  2.103740   |  9          |\n",
       "| 5 | Subject     | 330         | Intercept   |  23.6906196 | 145.7056    | 14.986408   | 80          |\n",
       "| 6 | Subject     | 331         | Intercept   |  22.2603126 | 145.7056    | 14.686185   | 79          |\n",
       "| 7 | Subject     | 332         | Intercept   |   9.0395679 | 145.7056    | 11.439297   | 61          |\n",
       "| 8 | Subject     | 333         | Intercept   |  16.8405086 | 145.7056    | 13.441698   | 72          |\n",
       "| 9 | Subject     | 334         | Intercept   |  -7.2326151 | 145.7056    |  7.263233   | 38          |\n",
       "| 10 | Subject     | 335         | Intercept   |  -0.3336684 | 145.7056    |  8.959311   | 47          |\n",
       "| 11 | Subject     | 337         | Intercept   |  34.8904868 | 145.7056    | 16.855604   | 91          |\n",
       "| 12 | Subject     | 349         | Intercept   | -25.2102286 | 145.7056    |  3.826869   | 18          |\n",
       "| 13 | Subject     | 350         | Intercept   | -13.0700342 | 145.7056    |  5.984189   | 30          |\n",
       "| 14 | Subject     | 351         | Intercept   |   4.5778642 | 145.7056    | 10.249262   | 54          |\n",
       "| 15 | Subject     | 352         | Intercept   |  20.8636782 | 145.7056    | 14.380943   | 77          |\n",
       "| 16 | Subject     | 369         | Intercept   |   3.2754656 | 145.7056    |  9.903284   | 52          |\n",
       "| 17 | Subject     | 370         | Intercept   | -25.6129993 | 145.7056    |  3.766171   | 18          |\n",
       "| 18 | Subject     | 371         | Intercept   |   0.8070461 | 145.7056    |  9.254643   | 49          |\n",
       "| 19 | Subject     | 372         | Intercept   |  12.3145921 | 145.7056    | 12.300567   | 66          |\n",
       "\n"
      ],
      "text/plain": [
       "   groupFctr groupLevel term      estimate    std.error ER        pctER\n",
       "2  Subject   308        Intercept   2.2585509 145.7056   9.634715 51   \n",
       "3  Subject   309        Intercept -40.3987381 145.7056   1.963880  8   \n",
       "4  Subject   310        Intercept -38.9604090 145.7056   2.103740  9   \n",
       "5  Subject   330        Intercept  23.6906196 145.7056  14.986408 80   \n",
       "6  Subject   331        Intercept  22.2603126 145.7056  14.686185 79   \n",
       "7  Subject   332        Intercept   9.0395679 145.7056  11.439297 61   \n",
       "8  Subject   333        Intercept  16.8405086 145.7056  13.441698 72   \n",
       "9  Subject   334        Intercept  -7.2326151 145.7056   7.263233 38   \n",
       "10 Subject   335        Intercept  -0.3336684 145.7056   8.959311 47   \n",
       "11 Subject   337        Intercept  34.8904868 145.7056  16.855604 91   \n",
       "12 Subject   349        Intercept -25.2102286 145.7056   3.826869 18   \n",
       "13 Subject   350        Intercept -13.0700342 145.7056   5.984189 30   \n",
       "14 Subject   351        Intercept   4.5778642 145.7056  10.249262 54   \n",
       "15 Subject   352        Intercept  20.8636782 145.7056  14.380943 77   \n",
       "16 Subject   369        Intercept   3.2754656 145.7056   9.903284 52   \n",
       "17 Subject   370        Intercept -25.6129993 145.7056   3.766171 18   \n",
       "18 Subject   371        Intercept   0.8070461 145.7056   9.254643 49   \n",
       "19 Subject   372        Intercept  12.3145921 145.7056  12.300567 66   "
      ]
     },
     "metadata": {},
     "output_type": "display_data"
    },
    {
     "data": {
      "text/html": [
       "<table>\n",
       "<thead><tr><th></th><th scope=col>groupFctr</th><th scope=col>groupLevel</th><th scope=col>term</th><th scope=col>estimate</th><th scope=col>std.error</th><th scope=col>ER</th><th scope=col>pctER</th></tr></thead>\n",
       "<tbody>\n",
       "\t<tr><th scope=row>2</th><td>s           </td><td>1           </td><td>Intercept   </td><td> 0.147354355</td><td>0.08121060  </td><td>1881.5973   </td><td>63          </td></tr>\n",
       "\t<tr><th scope=row>3</th><td>s           </td><td>2           </td><td>Intercept   </td><td>-0.047151377</td><td>0.09176121  </td><td>1359.4819   </td><td>46          </td></tr>\n",
       "\t<tr><th scope=row>4</th><td>s           </td><td>3           </td><td>Intercept   </td><td> 0.323988081</td><td>0.05187447  </td><td>2356.4560   </td><td>79          </td></tr>\n",
       "\t<tr><th scope=row>5</th><td>s           </td><td>4           </td><td>Intercept   </td><td> 0.249386677</td><td>0.06613193  </td><td>2158.1394   </td><td>73          </td></tr>\n",
       "\t<tr><th scope=row>6</th><td>s           </td><td>5           </td><td>Intercept   </td><td> 0.038289579</td><td>0.08129381  </td><td>1589.7392   </td><td>53          </td></tr>\n",
       "\t<tr><th scope=row>7</th><td>s           </td><td>6           </td><td>Intercept   </td><td> 0.115500394</td><td>0.06619803  </td><td>1810.8885   </td><td>61          </td></tr>\n",
       "\t<tr><th scope=row>8</th><td>s           </td><td>7           </td><td>Intercept   </td><td> 0.469190234</td><td>0.06979987  </td><td>2582.6855   </td><td>87          </td></tr>\n",
       "\t<tr><th scope=row>9</th><td>s           </td><td>8           </td><td>Intercept   </td><td> 0.189000363</td><td>0.07701462  </td><td>1992.9746   </td><td>67          </td></tr>\n",
       "\t<tr><th scope=row>10</th><td>s           </td><td>9           </td><td>Intercept   </td><td> 0.424963088</td><td>0.06332983  </td><td>2525.1897   </td><td>85          </td></tr>\n",
       "\t<tr><th scope=row>11</th><td>s           </td><td>10          </td><td>Intercept   </td><td> 0.311933975</td><td>0.05213608  </td><td>2329.6498   </td><td>78          </td></tr>\n",
       "\t<tr><th scope=row>12</th><td>s           </td><td>11          </td><td>Intercept   </td><td>-0.033237142</td><td>0.09180087  </td><td>1396.4493   </td><td>47          </td></tr>\n",
       "\t<tr><th scope=row>13</th><td>s           </td><td>12          </td><td>Intercept   </td><td>-0.233623140</td><td>0.07692981  </td><td> 868.2877   </td><td>29          </td></tr>\n",
       "\t<tr><th scope=row>14</th><td>s           </td><td>13          </td><td>Intercept   </td><td> 0.113434815</td><td>0.04801238  </td><td>1822.7097   </td><td>61          </td></tr>\n",
       "\t<tr><th scope=row>15</th><td>s           </td><td>14          </td><td>Intercept   </td><td> 0.154973700</td><td>0.06028466  </td><td>1925.2630   </td><td>65          </td></tr>\n",
       "\t<tr><th scope=row>16</th><td>s           </td><td>15          </td><td>Intercept   </td><td> 0.317205172</td><td>0.05204294  </td><td>2341.4015   </td><td>79          </td></tr>\n",
       "\t<tr><th scope=row>17</th><td>s           </td><td>16          </td><td>Intercept   </td><td> 0.133001496</td><td>0.07688481  </td><td>1848.2313   </td><td>62          </td></tr>\n",
       "\t<tr><th scope=row>18</th><td>s           </td><td>17          </td><td>Intercept   </td><td>-0.022504214</td><td>0.08613008  </td><td>1424.0656   </td><td>48          </td></tr>\n",
       "\t<tr><th scope=row>19</th><td>s           </td><td>18          </td><td>Intercept   </td><td>-0.041109307</td><td>0.09176059  </td><td>1375.5168   </td><td>46          </td></tr>\n",
       "\t<tr><th scope=row>20</th><td>s           </td><td>19          </td><td>Intercept   </td><td>-0.021075648</td><td>0.07716204  </td><td>1426.4153   </td><td>48          </td></tr>\n",
       "\t<tr><th scope=row>21</th><td>s           </td><td>20          </td><td>Intercept   </td><td> 0.322113110</td><td>0.07303687  </td><td>2309.2288   </td><td>78          </td></tr>\n",
       "\t<tr><th scope=row>22</th><td>s           </td><td>21          </td><td>Intercept   </td><td>-0.160935472</td><td>0.08634832  </td><td>1059.4671   </td><td>36          </td></tr>\n",
       "\t<tr><th scope=row>23</th><td>s           </td><td>22          </td><td>Intercept   </td><td> 0.645411075</td><td>0.03197769  </td><td>2852.1895   </td><td>96          </td></tr>\n",
       "\t<tr><th scope=row>24</th><td>s           </td><td>23          </td><td>Intercept   </td><td> 0.424618974</td><td>0.07667899  </td><td>2497.1415   </td><td>84          </td></tr>\n",
       "\t<tr><th scope=row>25</th><td>s           </td><td>24          </td><td>Intercept   </td><td>-0.182573534</td><td>0.06050161  </td><td> 971.4899   </td><td>33          </td></tr>\n",
       "\t<tr><th scope=row>26</th><td>s           </td><td>25          </td><td>Intercept   </td><td>-0.123717366</td><td>0.07304362  </td><td>1142.9712   </td><td>38          </td></tr>\n",
       "\t<tr><th scope=row>27</th><td>s           </td><td>26          </td><td>Intercept   </td><td> 0.277664253</td><td>0.06939772  </td><td>2218.4781   </td><td>75          </td></tr>\n",
       "\t<tr><th scope=row>28</th><td>s           </td><td>27          </td><td>Intercept   </td><td> 0.003639644</td><td>0.07283725  </td><td>1494.9512   </td><td>50          </td></tr>\n",
       "\t<tr><th scope=row>29</th><td>s           </td><td>28          </td><td>Intercept   </td><td> 0.398991020</td><td>0.06922686  </td><td>2467.3128   </td><td>83          </td></tr>\n",
       "\t<tr><th scope=row>30</th><td>s           </td><td>29          </td><td>Intercept   </td><td> 0.480440729</td><td>0.05369089  </td><td>2633.3597   </td><td>89          </td></tr>\n",
       "\t<tr><th scope=row>31</th><td>s           </td><td>30          </td><td>Intercept   </td><td> 0.258779675</td><td>0.04688211  </td><td>2217.2209   </td><td>75          </td></tr>\n",
       "\t<tr><th scope=row>...</th><td>...</td><td>...</td><td>...</td><td>...</td><td>...</td><td>...</td><td>...</td></tr>\n",
       "\t<tr><th scope=row>2944</th><td>s          </td><td>2943       </td><td>Intercept  </td><td>-0.20993337</td><td>0.05761119 </td><td> 896.0987  </td><td>30         </td></tr>\n",
       "\t<tr><th scope=row>2945</th><td>s          </td><td>2944       </td><td>Intercept  </td><td> 0.24042842</td><td>0.03579194 </td><td>2194.5770  </td><td>74         </td></tr>\n",
       "\t<tr><th scope=row>2946</th><td>s          </td><td>2945       </td><td>Intercept  </td><td> 0.70177603</td><td>0.02786496 </td><td>2892.3380  </td><td>97         </td></tr>\n",
       "\t<tr><th scope=row>2947</th><td>s          </td><td>2946       </td><td>Intercept  </td><td>-0.15127935</td><td>0.04209225 </td><td>1030.1034  </td><td>35         </td></tr>\n",
       "\t<tr><th scope=row>2948</th><td>s          </td><td>2947       </td><td>Intercept  </td><td>-0.45465322</td><td>0.03775660 </td><td> 342.6926  </td><td>12         </td></tr>\n",
       "\t<tr><th scope=row>2949</th><td>s          </td><td>2948       </td><td>Intercept  </td><td> 0.11788045</td><td>0.03169251 </td><td>1854.6784  </td><td>62         </td></tr>\n",
       "\t<tr><th scope=row>2950</th><td>s          </td><td>2949       </td><td>Intercept  </td><td>-0.12240884</td><td>0.02968959 </td><td>1097.1889  </td><td>37         </td></tr>\n",
       "\t<tr><th scope=row>2951</th><td>s          </td><td>2950       </td><td>Intercept  </td><td> 0.22256770</td><td>0.02072548 </td><td>2181.3152  </td><td>73         </td></tr>\n",
       "\t<tr><th scope=row>2952</th><td>s          </td><td>2951       </td><td>Intercept  </td><td> 0.25672848</td><td>0.04981562 </td><td>2206.2429  </td><td>74         </td></tr>\n",
       "\t<tr><th scope=row>2953</th><td>s          </td><td>2952       </td><td>Intercept  </td><td>-0.09895740</td><td>0.06004922 </td><td>1199.3934  </td><td>40         </td></tr>\n",
       "\t<tr><th scope=row>2954</th><td>s          </td><td>2953       </td><td>Intercept  </td><td>-0.12474443</td><td>0.03669400 </td><td>1099.6706  </td><td>37         </td></tr>\n",
       "\t<tr><th scope=row>2955</th><td>s          </td><td>2954       </td><td>Intercept  </td><td>-0.34416444</td><td>0.04038645 </td><td> 547.1575  </td><td>18         </td></tr>\n",
       "\t<tr><th scope=row>2956</th><td>s          </td><td>2955       </td><td>Intercept  </td><td>-0.21209761</td><td>0.04811769 </td><td> 874.1659  </td><td>29         </td></tr>\n",
       "\t<tr><th scope=row>2957</th><td>s          </td><td>2956       </td><td>Intercept  </td><td> 0.21853482</td><td>0.05324518 </td><td>2104.0476  </td><td>71         </td></tr>\n",
       "\t<tr><th scope=row>2958</th><td>s          </td><td>2957       </td><td>Intercept  </td><td>-0.17083756</td><td>0.01468204 </td><td> 924.0764  </td><td>31         </td></tr>\n",
       "\t<tr><th scope=row>2959</th><td>s          </td><td>2958       </td><td>Intercept  </td><td>-0.49069599</td><td>0.05141454 </td><td> 321.4070  </td><td>11         </td></tr>\n",
       "\t<tr><th scope=row>2960</th><td>s          </td><td>2959       </td><td>Intercept  </td><td>-0.23296803</td><td>0.05773656 </td><td> 838.3204  </td><td>28         </td></tr>\n",
       "\t<tr><th scope=row>2961</th><td>s          </td><td>2960       </td><td>Intercept  </td><td> 0.24258489</td><td>0.06582590 </td><td>2142.2943  </td><td>72         </td></tr>\n",
       "\t<tr><th scope=row>2962</th><td>s          </td><td>2961       </td><td>Intercept  </td><td>-0.46873135</td><td>0.01895065 </td><td> 275.0624  </td><td> 9         </td></tr>\n",
       "\t<tr><th scope=row>2963</th><td>s          </td><td>2962       </td><td>Intercept  </td><td> 0.13716759</td><td>0.02969519 </td><td>1915.9197  </td><td>64         </td></tr>\n",
       "\t<tr><th scope=row>2964</th><td>s          </td><td>2963       </td><td>Intercept  </td><td>-0.13985340</td><td>0.04094099 </td><td>1061.2111  </td><td>36         </td></tr>\n",
       "\t<tr><th scope=row>2965</th><td>s          </td><td>2964       </td><td>Intercept  </td><td>-0.06874694</td><td>0.02349646 </td><td>1258.3058  </td><td>42         </td></tr>\n",
       "\t<tr><th scope=row>2966</th><td>s          </td><td>2965       </td><td>Intercept  </td><td> 0.02162216</td><td>0.03566567 </td><td>1551.8612  </td><td>52         </td></tr>\n",
       "\t<tr><th scope=row>2967</th><td>s          </td><td>2966       </td><td>Intercept  </td><td>-0.06069572</td><td>0.05568253 </td><td>1306.0738  </td><td>44         </td></tr>\n",
       "\t<tr><th scope=row>2968</th><td>s          </td><td>2967       </td><td>Intercept  </td><td>-0.45151699</td><td>0.02835782 </td><td> 324.2830  </td><td>11         </td></tr>\n",
       "\t<tr><th scope=row>2969</th><td>s          </td><td>2968       </td><td>Intercept  </td><td>-0.06513966</td><td>0.01752840 </td><td>1264.6525  </td><td>43         </td></tr>\n",
       "\t<tr><th scope=row>2970</th><td>s          </td><td>2969       </td><td>Intercept  </td><td>-0.02327262</td><td>0.04637287 </td><td>1413.4623  </td><td>48         </td></tr>\n",
       "\t<tr><th scope=row>2971</th><td>s          </td><td>2970       </td><td>Intercept  </td><td> 0.17024555</td><td>0.02551687 </td><td>2021.5734  </td><td>68         </td></tr>\n",
       "\t<tr><th scope=row>2972</th><td>s          </td><td>2971       </td><td>Intercept  </td><td> 0.13675748</td><td>0.03872379 </td><td>1901.9064  </td><td>64         </td></tr>\n",
       "\t<tr><th scope=row>2973</th><td>s          </td><td>2972       </td><td>Intercept  </td><td> 0.26932272</td><td>0.03095864 </td><td>2278.8054  </td><td>77         </td></tr>\n",
       "</tbody>\n",
       "</table>\n"
      ],
      "text/latex": [
       "\\begin{tabular}{r|lllllll}\n",
       "  & groupFctr & groupLevel & term & estimate & std.error & ER & pctER\\\\\n",
       "\\hline\n",
       "\t2 & s            & 1            & Intercept    &  0.147354355 & 0.08121060   & 1881.5973    & 63          \\\\\n",
       "\t3 & s            & 2            & Intercept    & -0.047151377 & 0.09176121   & 1359.4819    & 46          \\\\\n",
       "\t4 & s            & 3            & Intercept    &  0.323988081 & 0.05187447   & 2356.4560    & 79          \\\\\n",
       "\t5 & s            & 4            & Intercept    &  0.249386677 & 0.06613193   & 2158.1394    & 73          \\\\\n",
       "\t6 & s            & 5            & Intercept    &  0.038289579 & 0.08129381   & 1589.7392    & 53          \\\\\n",
       "\t7 & s            & 6            & Intercept    &  0.115500394 & 0.06619803   & 1810.8885    & 61          \\\\\n",
       "\t8 & s            & 7            & Intercept    &  0.469190234 & 0.06979987   & 2582.6855    & 87          \\\\\n",
       "\t9 & s            & 8            & Intercept    &  0.189000363 & 0.07701462   & 1992.9746    & 67          \\\\\n",
       "\t10 & s            & 9            & Intercept    &  0.424963088 & 0.06332983   & 2525.1897    & 85          \\\\\n",
       "\t11 & s            & 10           & Intercept    &  0.311933975 & 0.05213608   & 2329.6498    & 78          \\\\\n",
       "\t12 & s            & 11           & Intercept    & -0.033237142 & 0.09180087   & 1396.4493    & 47          \\\\\n",
       "\t13 & s            & 12           & Intercept    & -0.233623140 & 0.07692981   &  868.2877    & 29          \\\\\n",
       "\t14 & s            & 13           & Intercept    &  0.113434815 & 0.04801238   & 1822.7097    & 61          \\\\\n",
       "\t15 & s            & 14           & Intercept    &  0.154973700 & 0.06028466   & 1925.2630    & 65          \\\\\n",
       "\t16 & s            & 15           & Intercept    &  0.317205172 & 0.05204294   & 2341.4015    & 79          \\\\\n",
       "\t17 & s            & 16           & Intercept    &  0.133001496 & 0.07688481   & 1848.2313    & 62          \\\\\n",
       "\t18 & s            & 17           & Intercept    & -0.022504214 & 0.08613008   & 1424.0656    & 48          \\\\\n",
       "\t19 & s            & 18           & Intercept    & -0.041109307 & 0.09176059   & 1375.5168    & 46          \\\\\n",
       "\t20 & s            & 19           & Intercept    & -0.021075648 & 0.07716204   & 1426.4153    & 48          \\\\\n",
       "\t21 & s            & 20           & Intercept    &  0.322113110 & 0.07303687   & 2309.2288    & 78          \\\\\n",
       "\t22 & s            & 21           & Intercept    & -0.160935472 & 0.08634832   & 1059.4671    & 36          \\\\\n",
       "\t23 & s            & 22           & Intercept    &  0.645411075 & 0.03197769   & 2852.1895    & 96          \\\\\n",
       "\t24 & s            & 23           & Intercept    &  0.424618974 & 0.07667899   & 2497.1415    & 84          \\\\\n",
       "\t25 & s            & 24           & Intercept    & -0.182573534 & 0.06050161   &  971.4899    & 33          \\\\\n",
       "\t26 & s            & 25           & Intercept    & -0.123717366 & 0.07304362   & 1142.9712    & 38          \\\\\n",
       "\t27 & s            & 26           & Intercept    &  0.277664253 & 0.06939772   & 2218.4781    & 75          \\\\\n",
       "\t28 & s            & 27           & Intercept    &  0.003639644 & 0.07283725   & 1494.9512    & 50          \\\\\n",
       "\t29 & s            & 28           & Intercept    &  0.398991020 & 0.06922686   & 2467.3128    & 83          \\\\\n",
       "\t30 & s            & 29           & Intercept    &  0.480440729 & 0.05369089   & 2633.3597    & 89          \\\\\n",
       "\t31 & s            & 30           & Intercept    &  0.258779675 & 0.04688211   & 2217.2209    & 75          \\\\\n",
       "\t... & ... & ... & ... & ... & ... & ... & ...\\\\\n",
       "\t2944 & s           & 2943        & Intercept   & -0.20993337 & 0.05761119  &  896.0987   & 30         \\\\\n",
       "\t2945 & s           & 2944        & Intercept   &  0.24042842 & 0.03579194  & 2194.5770   & 74         \\\\\n",
       "\t2946 & s           & 2945        & Intercept   &  0.70177603 & 0.02786496  & 2892.3380   & 97         \\\\\n",
       "\t2947 & s           & 2946        & Intercept   & -0.15127935 & 0.04209225  & 1030.1034   & 35         \\\\\n",
       "\t2948 & s           & 2947        & Intercept   & -0.45465322 & 0.03775660  &  342.6926   & 12         \\\\\n",
       "\t2949 & s           & 2948        & Intercept   &  0.11788045 & 0.03169251  & 1854.6784   & 62         \\\\\n",
       "\t2950 & s           & 2949        & Intercept   & -0.12240884 & 0.02968959  & 1097.1889   & 37         \\\\\n",
       "\t2951 & s           & 2950        & Intercept   &  0.22256770 & 0.02072548  & 2181.3152   & 73         \\\\\n",
       "\t2952 & s           & 2951        & Intercept   &  0.25672848 & 0.04981562  & 2206.2429   & 74         \\\\\n",
       "\t2953 & s           & 2952        & Intercept   & -0.09895740 & 0.06004922  & 1199.3934   & 40         \\\\\n",
       "\t2954 & s           & 2953        & Intercept   & -0.12474443 & 0.03669400  & 1099.6706   & 37         \\\\\n",
       "\t2955 & s           & 2954        & Intercept   & -0.34416444 & 0.04038645  &  547.1575   & 18         \\\\\n",
       "\t2956 & s           & 2955        & Intercept   & -0.21209761 & 0.04811769  &  874.1659   & 29         \\\\\n",
       "\t2957 & s           & 2956        & Intercept   &  0.21853482 & 0.05324518  & 2104.0476   & 71         \\\\\n",
       "\t2958 & s           & 2957        & Intercept   & -0.17083756 & 0.01468204  &  924.0764   & 31         \\\\\n",
       "\t2959 & s           & 2958        & Intercept   & -0.49069599 & 0.05141454  &  321.4070   & 11         \\\\\n",
       "\t2960 & s           & 2959        & Intercept   & -0.23296803 & 0.05773656  &  838.3204   & 28         \\\\\n",
       "\t2961 & s           & 2960        & Intercept   &  0.24258489 & 0.06582590  & 2142.2943   & 72         \\\\\n",
       "\t2962 & s           & 2961        & Intercept   & -0.46873135 & 0.01895065  &  275.0624   &  9         \\\\\n",
       "\t2963 & s           & 2962        & Intercept   &  0.13716759 & 0.02969519  & 1915.9197   & 64         \\\\\n",
       "\t2964 & s           & 2963        & Intercept   & -0.13985340 & 0.04094099  & 1061.2111   & 36         \\\\\n",
       "\t2965 & s           & 2964        & Intercept   & -0.06874694 & 0.02349646  & 1258.3058   & 42         \\\\\n",
       "\t2966 & s           & 2965        & Intercept   &  0.02162216 & 0.03566567  & 1551.8612   & 52         \\\\\n",
       "\t2967 & s           & 2966        & Intercept   & -0.06069572 & 0.05568253  & 1306.0738   & 44         \\\\\n",
       "\t2968 & s           & 2967        & Intercept   & -0.45151699 & 0.02835782  &  324.2830   & 11         \\\\\n",
       "\t2969 & s           & 2968        & Intercept   & -0.06513966 & 0.01752840  & 1264.6525   & 43         \\\\\n",
       "\t2970 & s           & 2969        & Intercept   & -0.02327262 & 0.04637287  & 1413.4623   & 48         \\\\\n",
       "\t2971 & s           & 2970        & Intercept   &  0.17024555 & 0.02551687  & 2021.5734   & 68         \\\\\n",
       "\t2972 & s           & 2971        & Intercept   &  0.13675748 & 0.03872379  & 1901.9064   & 64         \\\\\n",
       "\t2973 & s           & 2972        & Intercept   &  0.26932272 & 0.03095864  & 2278.8054   & 77         \\\\\n",
       "\\end{tabular}\n"
      ],
      "text/markdown": [
       "\n",
       "| <!--/--> | groupFctr | groupLevel | term | estimate | std.error | ER | pctER |\n",
       "|---|---|---|---|---|---|---|---|\n",
       "| 2 | s            | 1            | Intercept    |  0.147354355 | 0.08121060   | 1881.5973    | 63           |\n",
       "| 3 | s            | 2            | Intercept    | -0.047151377 | 0.09176121   | 1359.4819    | 46           |\n",
       "| 4 | s            | 3            | Intercept    |  0.323988081 | 0.05187447   | 2356.4560    | 79           |\n",
       "| 5 | s            | 4            | Intercept    |  0.249386677 | 0.06613193   | 2158.1394    | 73           |\n",
       "| 6 | s            | 5            | Intercept    |  0.038289579 | 0.08129381   | 1589.7392    | 53           |\n",
       "| 7 | s            | 6            | Intercept    |  0.115500394 | 0.06619803   | 1810.8885    | 61           |\n",
       "| 8 | s            | 7            | Intercept    |  0.469190234 | 0.06979987   | 2582.6855    | 87           |\n",
       "| 9 | s            | 8            | Intercept    |  0.189000363 | 0.07701462   | 1992.9746    | 67           |\n",
       "| 10 | s            | 9            | Intercept    |  0.424963088 | 0.06332983   | 2525.1897    | 85           |\n",
       "| 11 | s            | 10           | Intercept    |  0.311933975 | 0.05213608   | 2329.6498    | 78           |\n",
       "| 12 | s            | 11           | Intercept    | -0.033237142 | 0.09180087   | 1396.4493    | 47           |\n",
       "| 13 | s            | 12           | Intercept    | -0.233623140 | 0.07692981   |  868.2877    | 29           |\n",
       "| 14 | s            | 13           | Intercept    |  0.113434815 | 0.04801238   | 1822.7097    | 61           |\n",
       "| 15 | s            | 14           | Intercept    |  0.154973700 | 0.06028466   | 1925.2630    | 65           |\n",
       "| 16 | s            | 15           | Intercept    |  0.317205172 | 0.05204294   | 2341.4015    | 79           |\n",
       "| 17 | s            | 16           | Intercept    |  0.133001496 | 0.07688481   | 1848.2313    | 62           |\n",
       "| 18 | s            | 17           | Intercept    | -0.022504214 | 0.08613008   | 1424.0656    | 48           |\n",
       "| 19 | s            | 18           | Intercept    | -0.041109307 | 0.09176059   | 1375.5168    | 46           |\n",
       "| 20 | s            | 19           | Intercept    | -0.021075648 | 0.07716204   | 1426.4153    | 48           |\n",
       "| 21 | s            | 20           | Intercept    |  0.322113110 | 0.07303687   | 2309.2288    | 78           |\n",
       "| 22 | s            | 21           | Intercept    | -0.160935472 | 0.08634832   | 1059.4671    | 36           |\n",
       "| 23 | s            | 22           | Intercept    |  0.645411075 | 0.03197769   | 2852.1895    | 96           |\n",
       "| 24 | s            | 23           | Intercept    |  0.424618974 | 0.07667899   | 2497.1415    | 84           |\n",
       "| 25 | s            | 24           | Intercept    | -0.182573534 | 0.06050161   |  971.4899    | 33           |\n",
       "| 26 | s            | 25           | Intercept    | -0.123717366 | 0.07304362   | 1142.9712    | 38           |\n",
       "| 27 | s            | 26           | Intercept    |  0.277664253 | 0.06939772   | 2218.4781    | 75           |\n",
       "| 28 | s            | 27           | Intercept    |  0.003639644 | 0.07283725   | 1494.9512    | 50           |\n",
       "| 29 | s            | 28           | Intercept    |  0.398991020 | 0.06922686   | 2467.3128    | 83           |\n",
       "| 30 | s            | 29           | Intercept    |  0.480440729 | 0.05369089   | 2633.3597    | 89           |\n",
       "| 31 | s            | 30           | Intercept    |  0.258779675 | 0.04688211   | 2217.2209    | 75           |\n",
       "| ... | ... | ... | ... | ... | ... | ... | ... |\n",
       "| 2944 | s           | 2943        | Intercept   | -0.20993337 | 0.05761119  |  896.0987   | 30          |\n",
       "| 2945 | s           | 2944        | Intercept   |  0.24042842 | 0.03579194  | 2194.5770   | 74          |\n",
       "| 2946 | s           | 2945        | Intercept   |  0.70177603 | 0.02786496  | 2892.3380   | 97          |\n",
       "| 2947 | s           | 2946        | Intercept   | -0.15127935 | 0.04209225  | 1030.1034   | 35          |\n",
       "| 2948 | s           | 2947        | Intercept   | -0.45465322 | 0.03775660  |  342.6926   | 12          |\n",
       "| 2949 | s           | 2948        | Intercept   |  0.11788045 | 0.03169251  | 1854.6784   | 62          |\n",
       "| 2950 | s           | 2949        | Intercept   | -0.12240884 | 0.02968959  | 1097.1889   | 37          |\n",
       "| 2951 | s           | 2950        | Intercept   |  0.22256770 | 0.02072548  | 2181.3152   | 73          |\n",
       "| 2952 | s           | 2951        | Intercept   |  0.25672848 | 0.04981562  | 2206.2429   | 74          |\n",
       "| 2953 | s           | 2952        | Intercept   | -0.09895740 | 0.06004922  | 1199.3934   | 40          |\n",
       "| 2954 | s           | 2953        | Intercept   | -0.12474443 | 0.03669400  | 1099.6706   | 37          |\n",
       "| 2955 | s           | 2954        | Intercept   | -0.34416444 | 0.04038645  |  547.1575   | 18          |\n",
       "| 2956 | s           | 2955        | Intercept   | -0.21209761 | 0.04811769  |  874.1659   | 29          |\n",
       "| 2957 | s           | 2956        | Intercept   |  0.21853482 | 0.05324518  | 2104.0476   | 71          |\n",
       "| 2958 | s           | 2957        | Intercept   | -0.17083756 | 0.01468204  |  924.0764   | 31          |\n",
       "| 2959 | s           | 2958        | Intercept   | -0.49069599 | 0.05141454  |  321.4070   | 11          |\n",
       "| 2960 | s           | 2959        | Intercept   | -0.23296803 | 0.05773656  |  838.3204   | 28          |\n",
       "| 2961 | s           | 2960        | Intercept   |  0.24258489 | 0.06582590  | 2142.2943   | 72          |\n",
       "| 2962 | s           | 2961        | Intercept   | -0.46873135 | 0.01895065  |  275.0624   |  9          |\n",
       "| 2963 | s           | 2962        | Intercept   |  0.13716759 | 0.02969519  | 1915.9197   | 64          |\n",
       "| 2964 | s           | 2963        | Intercept   | -0.13985340 | 0.04094099  | 1061.2111   | 36          |\n",
       "| 2965 | s           | 2964        | Intercept   | -0.06874694 | 0.02349646  | 1258.3058   | 42          |\n",
       "| 2966 | s           | 2965        | Intercept   |  0.02162216 | 0.03566567  | 1551.8612   | 52          |\n",
       "| 2967 | s           | 2966        | Intercept   | -0.06069572 | 0.05568253  | 1306.0738   | 44          |\n",
       "| 2968 | s           | 2967        | Intercept   | -0.45151699 | 0.02835782  |  324.2830   | 11          |\n",
       "| 2969 | s           | 2968        | Intercept   | -0.06513966 | 0.01752840  | 1264.6525   | 43          |\n",
       "| 2970 | s           | 2969        | Intercept   | -0.02327262 | 0.04637287  | 1413.4623   | 48          |\n",
       "| 2971 | s           | 2970        | Intercept   |  0.17024555 | 0.02551687  | 2021.5734   | 68          |\n",
       "| 2972 | s           | 2971        | Intercept   |  0.13675748 | 0.03872379  | 1901.9064   | 64          |\n",
       "| 2973 | s           | 2972        | Intercept   |  0.26932272 | 0.03095864  | 2278.8054   | 77          |\n",
       "\n"
      ],
      "text/plain": [
       "     groupFctr groupLevel term      estimate     std.error  ER        pctER\n",
       "2    s         1          Intercept  0.147354355 0.08121060 1881.5973 63   \n",
       "3    s         2          Intercept -0.047151377 0.09176121 1359.4819 46   \n",
       "4    s         3          Intercept  0.323988081 0.05187447 2356.4560 79   \n",
       "5    s         4          Intercept  0.249386677 0.06613193 2158.1394 73   \n",
       "6    s         5          Intercept  0.038289579 0.08129381 1589.7392 53   \n",
       "7    s         6          Intercept  0.115500394 0.06619803 1810.8885 61   \n",
       "8    s         7          Intercept  0.469190234 0.06979987 2582.6855 87   \n",
       "9    s         8          Intercept  0.189000363 0.07701462 1992.9746 67   \n",
       "10   s         9          Intercept  0.424963088 0.06332983 2525.1897 85   \n",
       "11   s         10         Intercept  0.311933975 0.05213608 2329.6498 78   \n",
       "12   s         11         Intercept -0.033237142 0.09180087 1396.4493 47   \n",
       "13   s         12         Intercept -0.233623140 0.07692981  868.2877 29   \n",
       "14   s         13         Intercept  0.113434815 0.04801238 1822.7097 61   \n",
       "15   s         14         Intercept  0.154973700 0.06028466 1925.2630 65   \n",
       "16   s         15         Intercept  0.317205172 0.05204294 2341.4015 79   \n",
       "17   s         16         Intercept  0.133001496 0.07688481 1848.2313 62   \n",
       "18   s         17         Intercept -0.022504214 0.08613008 1424.0656 48   \n",
       "19   s         18         Intercept -0.041109307 0.09176059 1375.5168 46   \n",
       "20   s         19         Intercept -0.021075648 0.07716204 1426.4153 48   \n",
       "21   s         20         Intercept  0.322113110 0.07303687 2309.2288 78   \n",
       "22   s         21         Intercept -0.160935472 0.08634832 1059.4671 36   \n",
       "23   s         22         Intercept  0.645411075 0.03197769 2852.1895 96   \n",
       "24   s         23         Intercept  0.424618974 0.07667899 2497.1415 84   \n",
       "25   s         24         Intercept -0.182573534 0.06050161  971.4899 33   \n",
       "26   s         25         Intercept -0.123717366 0.07304362 1142.9712 38   \n",
       "27   s         26         Intercept  0.277664253 0.06939772 2218.4781 75   \n",
       "28   s         27         Intercept  0.003639644 0.07283725 1494.9512 50   \n",
       "29   s         28         Intercept  0.398991020 0.06922686 2467.3128 83   \n",
       "30   s         29         Intercept  0.480440729 0.05369089 2633.3597 89   \n",
       "31   s         30         Intercept  0.258779675 0.04688211 2217.2209 75   \n",
       "...  ...       ...        ...       ...          ...        ...       ...  \n",
       "2944 s         2943       Intercept -0.20993337  0.05761119  896.0987 30   \n",
       "2945 s         2944       Intercept  0.24042842  0.03579194 2194.5770 74   \n",
       "2946 s         2945       Intercept  0.70177603  0.02786496 2892.3380 97   \n",
       "2947 s         2946       Intercept -0.15127935  0.04209225 1030.1034 35   \n",
       "2948 s         2947       Intercept -0.45465322  0.03775660  342.6926 12   \n",
       "2949 s         2948       Intercept  0.11788045  0.03169251 1854.6784 62   \n",
       "2950 s         2949       Intercept -0.12240884  0.02968959 1097.1889 37   \n",
       "2951 s         2950       Intercept  0.22256770  0.02072548 2181.3152 73   \n",
       "2952 s         2951       Intercept  0.25672848  0.04981562 2206.2429 74   \n",
       "2953 s         2952       Intercept -0.09895740  0.06004922 1199.3934 40   \n",
       "2954 s         2953       Intercept -0.12474443  0.03669400 1099.6706 37   \n",
       "2955 s         2954       Intercept -0.34416444  0.04038645  547.1575 18   \n",
       "2956 s         2955       Intercept -0.21209761  0.04811769  874.1659 29   \n",
       "2957 s         2956       Intercept  0.21853482  0.05324518 2104.0476 71   \n",
       "2958 s         2957       Intercept -0.17083756  0.01468204  924.0764 31   \n",
       "2959 s         2958       Intercept -0.49069599  0.05141454  321.4070 11   \n",
       "2960 s         2959       Intercept -0.23296803  0.05773656  838.3204 28   \n",
       "2961 s         2960       Intercept  0.24258489  0.06582590 2142.2943 72   \n",
       "2962 s         2961       Intercept -0.46873135  0.01895065  275.0624  9   \n",
       "2963 s         2962       Intercept  0.13716759  0.02969519 1915.9197 64   \n",
       "2964 s         2963       Intercept -0.13985340  0.04094099 1061.2111 36   \n",
       "2965 s         2964       Intercept -0.06874694  0.02349646 1258.3058 42   \n",
       "2966 s         2965       Intercept  0.02162216  0.03566567 1551.8612 52   \n",
       "2967 s         2966       Intercept -0.06069572  0.05568253 1306.0738 44   \n",
       "2968 s         2967       Intercept -0.45151699  0.02835782  324.2830 11   \n",
       "2969 s         2968       Intercept -0.06513966  0.01752840 1264.6525 43   \n",
       "2970 s         2969       Intercept -0.02327262  0.04637287 1413.4623 48   \n",
       "2971 s         2970       Intercept  0.17024555  0.02551687 2021.5734 68   \n",
       "2972 s         2971       Intercept  0.13675748  0.03872379 1901.9064 64   \n",
       "2973 s         2972       Intercept  0.26932272  0.03095864 2278.8054 77   "
      ]
     },
     "metadata": {},
     "output_type": "display_data"
    }
   ],
   "source": [
    "#ranked by the random intercept\n",
    "(m2.er2 <- expectedRank(m2, term=\"int\"))\n",
    "#For a two-level model with random intercepts\n",
    "m3 <- lmer(y ~ service * dept + (1|s) + (1|d), InstEval)\n",
    "#Ranked by the random intercept on 's'\n",
    "(m3.er1 <- expectedRank(m3, groupFctr=\"s\", term=\"Intercept\"))"
   ]
  },
  {
   "cell_type": "code",
   "execution_count": 8,
   "metadata": {},
   "outputs": [
    {
     "data": {
      "text/plain": [
       "Linear mixed model fit by maximum likelihood  ['lmerMod']\n",
       "Formula: Reaction ~ 1 + Days + (1 + Days | Subject)\n",
       "   Data: sleepstudy\n",
       "      AIC       BIC    logLik  deviance  df.resid \n",
       "1763.9393 1783.0971 -875.9697 1751.9393       174 \n",
       "Random effects:\n",
       " Groups   Name        Std.Dev. Corr\n",
       " Subject  (Intercept) 23.780       \n",
       "          Days         5.717   0.08\n",
       " Residual             25.592       \n",
       "Number of obs: 180, groups:  Subject, 18\n",
       "Fixed Effects:\n",
       "(Intercept)         Days  \n",
       "     251.41        10.47  "
      ]
     },
     "metadata": {},
     "output_type": "display_data"
    }
   ],
   "source": [
    "(CorrelatedRE <- lmer(Reaction ~ 1 + Days + (1 + Days|Subject), sleepstudy, REML = 0))"
   ]
  },
  {
   "cell_type": "code",
   "execution_count": 9,
   "metadata": {},
   "outputs": [
    {
     "data": {
      "text/plain": [
       "Linear mixed model fit by maximum likelihood  ['lmerMod']\n",
       "Formula: Reaction ~ 1 + Days + (1 | Subject) + (0 + Days | Subject)\n",
       "   Data: sleepstudy\n",
       "      AIC       BIC    logLik  deviance  df.resid \n",
       "1762.0033 1777.9680 -876.0016 1752.0033       175 \n",
       "Random effects:\n",
       " Groups    Name        Std.Dev.\n",
       " Subject   (Intercept) 24.172  \n",
       " Subject.1 Days         5.799  \n",
       " Residual              25.556  \n",
       "Number of obs: 180, groups:  Subject, 18\n",
       "Fixed Effects:\n",
       "(Intercept)         Days  \n",
       "     251.41        10.47  "
      ]
     },
     "metadata": {},
     "output_type": "display_data"
    }
   ],
   "source": [
    " (UncorrelatedRE <- lmer(Reaction ~ 1 + Days + (1|Subject) + (0+Days|Subject),sleepstudy, REML = 0))\n"
   ]
  },
  {
   "cell_type": "code",
   "execution_count": 10,
   "metadata": {},
   "outputs": [
    {
     "data": {
      "text/html": [
       "<table>\n",
       "<thead><tr><th></th><th scope=col>npar</th><th scope=col>AIC</th><th scope=col>BIC</th><th scope=col>logLik</th><th scope=col>deviance</th><th scope=col>Chisq</th><th scope=col>Df</th><th scope=col>Pr(&gt;Chisq)</th></tr></thead>\n",
       "<tbody>\n",
       "\t<tr><th scope=row>UncorrelatedRE</th><td>5         </td><td>1762.003  </td><td>1777.968  </td><td>-876.0016 </td><td>1752.003  </td><td>        NA</td><td>NA        </td><td>       NA </td></tr>\n",
       "\t<tr><th scope=row>CorrelatedRE</th><td>6         </td><td>1763.939  </td><td>1783.097  </td><td>-875.9697 </td><td>1751.939  </td><td>0.06391066</td><td> 1        </td><td>0.8004185 </td></tr>\n",
       "</tbody>\n",
       "</table>\n"
      ],
      "text/latex": [
       "\\begin{tabular}{r|llllllll}\n",
       "  & npar & AIC & BIC & logLik & deviance & Chisq & Df & Pr(>Chisq)\\\\\n",
       "\\hline\n",
       "\tUncorrelatedRE & 5          & 1762.003   & 1777.968   & -876.0016  & 1752.003   &         NA & NA         &        NA \\\\\n",
       "\tCorrelatedRE & 6          & 1763.939   & 1783.097   & -875.9697  & 1751.939   & 0.06391066 &  1         & 0.8004185 \\\\\n",
       "\\end{tabular}\n"
      ],
      "text/markdown": [
       "\n",
       "| <!--/--> | npar | AIC | BIC | logLik | deviance | Chisq | Df | Pr(>Chisq) |\n",
       "|---|---|---|---|---|---|---|---|---|\n",
       "| UncorrelatedRE | 5          | 1762.003   | 1777.968   | -876.0016  | 1752.003   |         NA | NA         |        NA  |\n",
       "| CorrelatedRE | 6          | 1763.939   | 1783.097   | -875.9697  | 1751.939   | 0.06391066 |  1         | 0.8004185  |\n",
       "\n"
      ],
      "text/plain": [
       "               npar AIC      BIC      logLik    deviance Chisq      Df\n",
       "UncorrelatedRE 5    1762.003 1777.968 -876.0016 1752.003         NA NA\n",
       "CorrelatedRE   6    1763.939 1783.097 -875.9697 1751.939 0.06391066  1\n",
       "               Pr(>Chisq)\n",
       "UncorrelatedRE        NA \n",
       "CorrelatedRE   0.8004185 "
      ]
     },
     "metadata": {},
     "output_type": "display_data"
    }
   ],
   "source": [
    "anova(UncorrelatedRE,CorrelatedRE)"
   ]
  },
  {
   "cell_type": "code",
   "execution_count": 11,
   "metadata": {},
   "outputs": [],
   "source": [
    "parsedFormula <- lFormula(formula = Reaction ~ Days + (Days | Subject),data = sleepstudy)"
   ]
  },
  {
   "cell_type": "code",
   "execution_count": 12,
   "metadata": {},
   "outputs": [],
   "source": [
    " devianceFunction <- do.call(mkLmerDevfun, parsedFormula)"
   ]
  },
  {
   "cell_type": "code",
   "execution_count": 13,
   "metadata": {},
   "outputs": [],
   "source": [
    "optimizerOutput <- optimizeLmer(devianceFunction)"
   ]
  },
  {
   "cell_type": "code",
   "execution_count": 14,
   "metadata": {},
   "outputs": [
    {
     "data": {
      "text/plain": [
       "Linear mixed model fit by REML ['lmerMod']\n",
       "REML criterion at convergence: 1743.628\n",
       "Random effects:\n",
       " Groups   Name        Std.Dev. Corr\n",
       " Subject  (Intercept) 24.741       \n",
       "          Days         5.922   0.07\n",
       " Residual             25.592       \n",
       "Number of obs: 180, groups:  Subject, 18\n",
       "Fixed Effects:\n",
       "(Intercept)         Days  \n",
       "     251.41        10.47  "
      ]
     },
     "metadata": {},
     "output_type": "display_data"
    }
   ],
   "source": [
    "mkMerMod(rho = environment(devianceFunction), opt = optimizerOutput, reTrms = parsedFormula$reTrms, fr = parsedFormula$fr)"
   ]
  },
  {
   "cell_type": "code",
   "execution_count": 16,
   "metadata": {},
   "outputs": [
    {
     "data": {
      "text/plain": [
       "Linear mixed model fit by REML ['lmerMod']\n",
       "Formula: Reaction ~ Days + (Days | Subject)\n",
       "   Data: sleepstudy\n",
       "REML criterion at convergence: 1743.628\n",
       "Random effects:\n",
       " Groups   Name        Std.Dev. Corr\n",
       " Subject  (Intercept) 24.741       \n",
       "          Days         5.922   0.07\n",
       " Residual             25.592       \n",
       "Number of obs: 180, groups:  Subject, 18\n",
       "Fixed Effects:\n",
       "(Intercept)         Days  \n",
       "     251.41        10.47  "
      ]
     },
     "metadata": {},
     "output_type": "display_data"
    }
   ],
   "source": [
    "fm1 <- lmer(Reaction ~ Days + (Days | Subject), sleepstudy)\n",
    "fm1"
   ]
  },
  {
   "cell_type": "code",
   "execution_count": 23,
   "metadata": {},
   "outputs": [
    {
     "name": "stderr",
     "output_type": "stream",
     "text": [
      "Warning message:\n",
      "\"package 'dplyr' was built under R version 3.6.3\"\n",
      "Attaching package: 'dplyr'\n",
      "\n",
      "The following object is masked from 'package:MASS':\n",
      "\n",
      "    select\n",
      "\n",
      "The following objects are masked from 'package:stats':\n",
      "\n",
      "    filter, lag\n",
      "\n",
      "The following objects are masked from 'package:base':\n",
      "\n",
      "    intersect, setdiff, setequal, union\n",
      "\n"
     ]
    }
   ],
   "source": [
    "library(dplyr)\n",
    "knitr::opts_chunk$set(echo = TRUE)\n",
    "asp_facet <- 1"
   ]
  },
  {
   "cell_type": "code",
   "execution_count": 25,
   "metadata": {},
   "outputs": [],
   "source": [
    "library(lme4)\n",
    "library(dplyr)\n",
    "library(tibble)\n",
    "# Convert to tibble for better printing. Convert factors to strings\n",
    "sleepstudy <- sleepstudy %>% \n",
    "  as_tibble() %>% \n",
    "  mutate(Subject = as.character(Subject))\n",
    "# Add two fake participants\n",
    "df_sleep <- bind_rows(\n",
    "  sleepstudy,\n",
    "  tibble(Reaction = c(286, 288), Days = 0:1, Subject = \"374\"),\n",
    "  tibble(Reaction = 245, Days = 0, Subject = \"373\"))\n"
   ]
  },
  {
   "cell_type": "code",
   "execution_count": 26,
   "metadata": {},
   "outputs": [
    {
     "name": "stderr",
     "output_type": "stream",
     "text": [
      "Warning message:\n",
      "\"package 'ggplot2' was built under R version 3.6.3\"`geom_smooth()` using formula 'y ~ x'\n"
     ]
    },
    {
     "data": {
      "image/png": "[encoded data removed]",
      "text/plain": [
       "plot without title"
      ]
     },
     "metadata": {},
     "output_type": "display_data"
    }
   ],
   "source": [
    "library(ggplot2)\n",
    "xlab <- \"Days of sleep deprivation\"\n",
    "ylab <- \"Average reaction time (ms)\"\n",
    "ggplot(df_sleep) + \n",
    "  aes(x = Days, y = Reaction) + \n",
    "  stat_smooth(method = \"lm\", se = FALSE) +\n",
    "  # Put the points on top of lines\n",
    "  geom_point() +\n",
    "  facet_wrap(\"Subject\") +\n",
    "  labs(x = xlab, y = ylab) + \n",
    "  # We also need to help the x-axis, so it doesn't \n",
    "  # create gridlines/ticks on 2.5 days\n",
    "  scale_x_continuous(breaks = 0:4 * 2)"
   ]
  },
  {
   "cell_type": "code",
   "execution_count": 27,
   "metadata": {
    "scrolled": true
   },
   "outputs": [
    {
     "name": "stderr",
     "output_type": "stream",
     "text": [
      "Warning message:\n",
      "\"Unknown or uninitialised column: `(weights)`.\"Warning message:\n",
      "\"Unknown or uninitialised column: `(offset)`.\"Warning message:\n",
      "\"Unknown or uninitialised column: `(weights)`.\"Warning message:\n",
      "\"Unknown or uninitialised column: `(offset)`.\"Warning message:\n",
      "\"Unknown or uninitialised column: `(weights)`.\"Warning message:\n",
      "\"Unknown or uninitialised column: `(offset)`.\"Warning message:\n",
      "\"Unknown or uninitialised column: `(weights)`.\"Warning message:\n",
      "\"Unknown or uninitialised column: `(offset)`.\"Warning message:\n",
      "\"Unknown or uninitialised column: `(weights)`.\"Warning message:\n",
      "\"Unknown or uninitialised column: `(offset)`.\"Warning message:\n",
      "\"Unknown or uninitialised column: `(weights)`.\"Warning message:\n",
      "\"Unknown or uninitialised column: `(offset)`.\"Warning message:\n",
      "\"Unknown or uninitialised column: `(weights)`.\"Warning message:\n",
      "\"Unknown or uninitialised column: `(offset)`.\"Warning message:\n",
      "\"Unknown or uninitialised column: `(weights)`.\"Warning message:\n",
      "\"Unknown or uninitialised column: `(offset)`.\"Warning message:\n",
      "\"Unknown or uninitialised column: `(weights)`.\"Warning message:\n",
      "\"Unknown or uninitialised column: `(offset)`.\"Warning message:\n",
      "\"Unknown or uninitialised column: `(weights)`.\"Warning message:\n",
      "\"Unknown or uninitialised column: `(offset)`.\"Warning message:\n",
      "\"Unknown or uninitialised column: `(weights)`.\"Warning message:\n",
      "\"Unknown or uninitialised column: `(offset)`.\"Warning message:\n",
      "\"Unknown or uninitialised column: `(weights)`.\"Warning message:\n",
      "\"Unknown or uninitialised column: `(offset)`.\"Warning message:\n",
      "\"Unknown or uninitialised column: `(weights)`.\"Warning message:\n",
      "\"Unknown or uninitialised column: `(offset)`.\"Warning message:\n",
      "\"Unknown or uninitialised column: `(weights)`.\"Warning message:\n",
      "\"Unknown or uninitialised column: `(offset)`.\"Warning message:\n",
      "\"Unknown or uninitialised column: `(weights)`.\"Warning message:\n",
      "\"Unknown or uninitialised column: `(offset)`.\"Warning message:\n",
      "\"Unknown or uninitialised column: `(weights)`.\"Warning message:\n",
      "\"Unknown or uninitialised column: `(offset)`.\"Warning message:\n",
      "\"Unknown or uninitialised column: `(weights)`.\"Warning message:\n",
      "\"Unknown or uninitialised column: `(offset)`.\"Warning message:\n",
      "\"Unknown or uninitialised column: `(weights)`.\"Warning message:\n",
      "\"Unknown or uninitialised column: `(offset)`.\"Warning message:\n",
      "\"Unknown or uninitialised column: `(weights)`.\"Warning message:\n",
      "\"Unknown or uninitialised column: `(offset)`.\"Warning message:\n",
      "\"Unknown or uninitialised column: `(weights)`.\"Warning message:\n",
      "\"Unknown or uninitialised column: `(offset)`.\""
     ]
    },
    {
     "data": {
      "text/html": [
       "<table>\n",
       "<thead><tr><th scope=col>Subject</th><th scope=col>Intercept</th><th scope=col>Slope_Days</th><th scope=col>Model</th></tr></thead>\n",
       "<tbody>\n",
       "\t<tr><td>308       </td><td>244.1927  </td><td>21.764702 </td><td>No pooling</td></tr>\n",
       "\t<tr><td>309       </td><td>205.0549  </td><td> 2.261785 </td><td>No pooling</td></tr>\n",
       "\t<tr><td>310       </td><td>203.4842  </td><td> 6.114899 </td><td>No pooling</td></tr>\n",
       "\t<tr><td>330       </td><td>289.6851  </td><td> 3.008073 </td><td>No pooling</td></tr>\n",
       "\t<tr><td>331       </td><td>285.7390  </td><td> 5.266019 </td><td>No pooling</td></tr>\n",
       "\t<tr><td>332       </td><td>264.2516  </td><td> 9.566768 </td><td>No pooling</td></tr>\n",
       "</tbody>\n",
       "</table>\n"
      ],
      "text/latex": [
       "\\begin{tabular}{r|llll}\n",
       " Subject & Intercept & Slope\\_Days & Model\\\\\n",
       "\\hline\n",
       "\t 308        & 244.1927   & 21.764702  & No pooling\\\\\n",
       "\t 309        & 205.0549   &  2.261785  & No pooling\\\\\n",
       "\t 310        & 203.4842   &  6.114899  & No pooling\\\\\n",
       "\t 330        & 289.6851   &  3.008073  & No pooling\\\\\n",
       "\t 331        & 285.7390   &  5.266019  & No pooling\\\\\n",
       "\t 332        & 264.2516   &  9.566768  & No pooling\\\\\n",
       "\\end{tabular}\n"
      ],
      "text/markdown": [
       "\n",
       "| Subject | Intercept | Slope_Days | Model |\n",
       "|---|---|---|---|\n",
       "| 308        | 244.1927   | 21.764702  | No pooling |\n",
       "| 309        | 205.0549   |  2.261785  | No pooling |\n",
       "| 310        | 203.4842   |  6.114899  | No pooling |\n",
       "| 330        | 289.6851   |  3.008073  | No pooling |\n",
       "| 331        | 285.7390   |  5.266019  | No pooling |\n",
       "| 332        | 264.2516   |  9.566768  | No pooling |\n",
       "\n"
      ],
      "text/plain": [
       "  Subject Intercept Slope_Days Model     \n",
       "1 308     244.1927  21.764702  No pooling\n",
       "2 309     205.0549   2.261785  No pooling\n",
       "3 310     203.4842   6.114899  No pooling\n",
       "4 330     289.6851   3.008073  No pooling\n",
       "5 331     285.7390   5.266019  No pooling\n",
       "6 332     264.2516   9.566768  No pooling"
      ]
     },
     "metadata": {},
     "output_type": "display_data"
    }
   ],
   "source": [
    "df_no_pooling <- lmList(Reaction ~ Days | Subject, df_sleep) %>% \n",
    "  coef() %>% \n",
    "  # Subject IDs are stored as row-names. Make them an explicit column\n",
    "  rownames_to_column(\"Subject\") %>% \n",
    "  rename(Intercept = `(Intercept)`, Slope_Days = Days) %>% \n",
    "  add_column(Model = \"No pooling\") %>% \n",
    "  # Remove the participant who only had one data-point\n",
    "  filter(Subject != \"373\")\n",
    "head(df_no_pooling)"
   ]
  },
  {
   "cell_type": "code",
   "execution_count": 28,
   "metadata": {},
   "outputs": [
    {
     "data": {
      "text/html": [
       "<table>\n",
       "<thead><tr><th scope=col>Model</th><th scope=col>Subject</th><th scope=col>Intercept</th><th scope=col>Slope_Days</th></tr></thead>\n",
       "<tbody>\n",
       "\t<tr><td>Complete pooling</td><td>308             </td><td>252.3207        </td><td>10.32766        </td></tr>\n",
       "\t<tr><td>Complete pooling</td><td>309             </td><td>252.3207        </td><td>10.32766        </td></tr>\n",
       "\t<tr><td>Complete pooling</td><td>310             </td><td>252.3207        </td><td>10.32766        </td></tr>\n",
       "\t<tr><td>Complete pooling</td><td>330             </td><td>252.3207        </td><td>10.32766        </td></tr>\n",
       "\t<tr><td>Complete pooling</td><td>331             </td><td>252.3207        </td><td>10.32766        </td></tr>\n",
       "\t<tr><td>Complete pooling</td><td>332             </td><td>252.3207        </td><td>10.32766        </td></tr>\n",
       "</tbody>\n",
       "</table>\n"
      ],
      "text/latex": [
       "\\begin{tabular}{r|llll}\n",
       " Model & Subject & Intercept & Slope\\_Days\\\\\n",
       "\\hline\n",
       "\t Complete pooling & 308              & 252.3207         & 10.32766        \\\\\n",
       "\t Complete pooling & 309              & 252.3207         & 10.32766        \\\\\n",
       "\t Complete pooling & 310              & 252.3207         & 10.32766        \\\\\n",
       "\t Complete pooling & 330              & 252.3207         & 10.32766        \\\\\n",
       "\t Complete pooling & 331              & 252.3207         & 10.32766        \\\\\n",
       "\t Complete pooling & 332              & 252.3207         & 10.32766        \\\\\n",
       "\\end{tabular}\n"
      ],
      "text/markdown": [
       "\n",
       "| Model | Subject | Intercept | Slope_Days |\n",
       "|---|---|---|---|\n",
       "| Complete pooling | 308              | 252.3207         | 10.32766         |\n",
       "| Complete pooling | 309              | 252.3207         | 10.32766         |\n",
       "| Complete pooling | 310              | 252.3207         | 10.32766         |\n",
       "| Complete pooling | 330              | 252.3207         | 10.32766         |\n",
       "| Complete pooling | 331              | 252.3207         | 10.32766         |\n",
       "| Complete pooling | 332              | 252.3207         | 10.32766         |\n",
       "\n"
      ],
      "text/plain": [
       "  Model            Subject Intercept Slope_Days\n",
       "1 Complete pooling 308     252.3207  10.32766  \n",
       "2 Complete pooling 309     252.3207  10.32766  \n",
       "3 Complete pooling 310     252.3207  10.32766  \n",
       "4 Complete pooling 330     252.3207  10.32766  \n",
       "5 Complete pooling 331     252.3207  10.32766  \n",
       "6 Complete pooling 332     252.3207  10.32766  "
      ]
     },
     "metadata": {},
     "output_type": "display_data"
    }
   ],
   "source": [
    "# Fit a model on all the data pooled together\n",
    "m_pooled <- lm(Reaction ~ Days, df_sleep) \n",
    "# Repeat the intercept and slope terms for each participant\n",
    "df_pooled <- tibble(\n",
    "  Model = \"Complete pooling\",\n",
    "  Subject = unique(df_sleep$Subject),\n",
    "  Intercept = coef(m_pooled)[1], \n",
    "  Slope_Days = coef(m_pooled)[2]\n",
    ")\n",
    "head(df_pooled)"
   ]
  },
  {
   "cell_type": "code",
   "execution_count": 32,
   "metadata": {},
   "outputs": [
    {
     "name": "stderr",
     "output_type": "stream",
     "text": [
      "Warning message in pal_name(palette, type):\n",
      "\"Unknown palette Dark1\""
     ]
    },
    {
     "data": {
      "image/png": "[encoded data removed]",
      "text/plain": [
       "plot without title"
      ]
     },
     "metadata": {},
     "output_type": "display_data"
    }
   ],
   "source": [
    "# Join the raw data so we can use plot the points and the lines.\n",
    "df_models <- bind_rows(df_pooled, df_no_pooling) %>% \n",
    "  left_join(df_sleep, by = \"Subject\")\n",
    "p_model_comparison <- ggplot(df_models) + \n",
    "  aes(x = Days, y = Reaction) + \n",
    "  # Set the color mapping in this layer so the points don't get a color\n",
    "  geom_abline(\n",
    "    aes(intercept = Intercept, slope = Slope_Days, color = Model),\n",
    "    size = .75\n",
    "  ) + \n",
    "  geom_point() +\n",
    "  facet_wrap(\"Subject\") +\n",
    "  labs(x = xlab, y = ylab) + \n",
    "  scale_x_continuous(breaks = 0:4 * 2) + \n",
    "  # Fix the color palette \n",
    "  scale_color_brewer(palette = \"Dark1\") + \n",
    "  theme(legend.position = \"top\", legend.justification = \"left\")\n",
    "p_model_comparison"
   ]
  },
  {
   "cell_type": "code",
   "execution_count": 34,
   "metadata": {},
   "outputs": [
    {
     "name": "stdout",
     "output_type": "stream",
     "text": [
      "lmer(formula = Reaction ~ 1 + Days + (1 + Days | Subject), data = df_sleep)\n",
      "            coef.est coef.se\n",
      "(Intercept) 252.54     6.43 \n",
      "Days         10.45     1.54 \n",
      "\n",
      "Error terms:\n",
      " Groups   Name        Std.Dev. Corr \n",
      " Subject  (Intercept) 24.14         \n",
      "          Days         5.92    0.07 \n",
      " Residual             25.48         \n",
      "---\n",
      "number of obs: 183, groups: Subject, 20\n",
      "AIC = 1783.4, DIC = 1787.8\n",
      "deviance = 1779.6 \n"
     ]
    }
   ],
   "source": [
    "\n",
    "m <- lmer(Reaction ~ 1 + Days + (1 + Days | Subject), df_sleep)\n",
    "arm::display(m)\n"
   ]
  },
  {
   "cell_type": "code",
   "execution_count": 35,
   "metadata": {},
   "outputs": [
    {
     "data": {
      "text/html": [
       "<table>\n",
       "<thead><tr><th scope=col>Subject</th><th scope=col>Intercept</th><th scope=col>Slope_Days</th><th scope=col>Model</th></tr></thead>\n",
       "<tbody>\n",
       "\t<tr><td>308            </td><td>253.9478       </td><td>19.626434      </td><td>Partial pooling</td></tr>\n",
       "\t<tr><td>309            </td><td>211.7331       </td><td> 1.731916      </td><td>Partial pooling</td></tr>\n",
       "\t<tr><td>310            </td><td>213.1582       </td><td> 4.906151      </td><td>Partial pooling</td></tr>\n",
       "\t<tr><td>330            </td><td>275.1425       </td><td> 5.643601      </td><td>Partial pooling</td></tr>\n",
       "\t<tr><td>331            </td><td>273.7286       </td><td> 7.386273      </td><td>Partial pooling</td></tr>\n",
       "\t<tr><td>332            </td><td>260.6504       </td><td>10.163257      </td><td>Partial pooling</td></tr>\n",
       "</tbody>\n",
       "</table>\n"
      ],
      "text/latex": [
       "\\begin{tabular}{r|llll}\n",
       " Subject & Intercept & Slope\\_Days & Model\\\\\n",
       "\\hline\n",
       "\t 308             & 253.9478        & 19.626434       & Partial pooling\\\\\n",
       "\t 309             & 211.7331        &  1.731916       & Partial pooling\\\\\n",
       "\t 310             & 213.1582        &  4.906151       & Partial pooling\\\\\n",
       "\t 330             & 275.1425        &  5.643601       & Partial pooling\\\\\n",
       "\t 331             & 273.7286        &  7.386273       & Partial pooling\\\\\n",
       "\t 332             & 260.6504        & 10.163257       & Partial pooling\\\\\n",
       "\\end{tabular}\n"
      ],
      "text/markdown": [
       "\n",
       "| Subject | Intercept | Slope_Days | Model |\n",
       "|---|---|---|---|\n",
       "| 308             | 253.9478        | 19.626434       | Partial pooling |\n",
       "| 309             | 211.7331        |  1.731916       | Partial pooling |\n",
       "| 310             | 213.1582        |  4.906151       | Partial pooling |\n",
       "| 330             | 275.1425        |  5.643601       | Partial pooling |\n",
       "| 331             | 273.7286        |  7.386273       | Partial pooling |\n",
       "| 332             | 260.6504        | 10.163257       | Partial pooling |\n",
       "\n"
      ],
      "text/plain": [
       "  Subject Intercept Slope_Days Model          \n",
       "1 308     253.9478  19.626434  Partial pooling\n",
       "2 309     211.7331   1.731916  Partial pooling\n",
       "3 310     213.1582   4.906151  Partial pooling\n",
       "4 330     275.1425   5.643601  Partial pooling\n",
       "5 331     273.7286   7.386273  Partial pooling\n",
       "6 332     260.6504  10.163257  Partial pooling"
      ]
     },
     "metadata": {},
     "output_type": "display_data"
    }
   ],
   "source": [
    "# Make a dataframe with the fitted effects\n",
    "df_partial_pooling <- coef(m)[[\"Subject\"]] %>% \n",
    "  rownames_to_column(\"Subject\") %>% \n",
    "  as_tibble() %>% \n",
    "  rename(Intercept = `(Intercept)`, Slope_Days = Days) %>% \n",
    "  add_column(Model = \"Partial pooling\")\n",
    "head(df_partial_pooling)"
   ]
  },
  {
   "cell_type": "code",
   "execution_count": 36,
   "metadata": {},
   "outputs": [
    {
     "data": {
      "image/png": "[encoded data removed]",
      "text/plain": [
       "plot without title"
      ]
     },
     "metadata": {},
     "output_type": "display_data"
    }
   ],
   "source": [
    "df_models <- bind_rows(df_pooled, df_no_pooling, df_partial_pooling) %>% \n",
    "  left_join(df_sleep, by = \"Subject\")\n",
    "# Replace the data-set of the last plot\n",
    "p_model_comparison %+% df_models"
   ]
  },
  {
   "cell_type": "code",
   "execution_count": 37,
   "metadata": {},
   "outputs": [
    {
     "data": {
      "image/png": "[encoded data removed]",
      "text/plain": [
       "plot without title"
      ]
     },
     "metadata": {},
     "output_type": "display_data"
    }
   ],
   "source": [
    "df_zoom <- df_models %>% \n",
    "  filter(Subject %in% c(\"335\", \"350\", \"373\", \"374\"))\n",
    "p_model_comparison %+% df_zoom"
   ]
  },
  {
   "cell_type": "code",
   "execution_count": 39,
   "metadata": {},
   "outputs": [
    {
     "data": {
      "text/html": [
       "<table>\n",
       "<thead><tr><th scope=col>Model</th><th scope=col>Intercept</th><th scope=col>Slope_Days</th></tr></thead>\n",
       "<tbody>\n",
       "\t<tr><td>Complete pooling         </td><td>252.3207                 </td><td>10.32766                 </td></tr>\n",
       "\t<tr><td>Partial pooling (average)</td><td>252.5426                 </td><td>10.45212                 </td></tr>\n",
       "</tbody>\n",
       "</table>\n"
      ],
      "text/latex": [
       "\\begin{tabular}{r|lll}\n",
       " Model & Intercept & Slope\\_Days\\\\\n",
       "\\hline\n",
       "\t Complete pooling          & 252.3207                  & 10.32766                 \\\\\n",
       "\t Partial pooling (average) & 252.5426                  & 10.45212                 \\\\\n",
       "\\end{tabular}\n"
      ],
      "text/markdown": [
       "\n",
       "| Model | Intercept | Slope_Days |\n",
       "|---|---|---|\n",
       "| Complete pooling          | 252.3207                  | 10.32766                  |\n",
       "| Partial pooling (average) | 252.5426                  | 10.45212                  |\n",
       "\n"
      ],
      "text/plain": [
       "  Model                     Intercept Slope_Days\n",
       "1 Complete pooling          252.3207  10.32766  \n",
       "2 Partial pooling (average) 252.5426  10.45212  "
      ]
     },
     "metadata": {},
     "output_type": "display_data"
    },
    {
     "data": {
      "image/png": "[encoded data removed]",
      "text/plain": [
       "plot without title"
      ]
     },
     "metadata": {},
     "output_type": "display_data"
    }
   ],
   "source": [
    "df_fixef <- tibble(\n",
    "  Model = \"Partial pooling (average)\",\n",
    "  Intercept = fixef(m)[1],\n",
    "  Slope_Days = fixef(m)[2]\n",
    ")\n",
    "df_gravity <- df_pooled %>% \n",
    "  distinct(Model, Intercept, Slope_Days) %>% \n",
    "  bind_rows(df_fixef)\n",
    "df_gravity\n",
    "df_pulled <- bind_rows(df_no_pooling, df_partial_pooling)\n",
    "ggplot(df_pulled) + \n",
    "  aes(x = Intercept, y = Slope_Days, color = Model) + \n",
    "  geom_point(size = 2) + \n",
    "  geom_point(data = df_gravity, size = 5) + \n",
    "  # Draw an arrow connecting the observations between models\n",
    "  geom_path(\n",
    "    aes(group = Subject, color = NULL), \n",
    "    arrow = arrow(length = unit(.02, \"npc\"))\n",
    "  ) + \n",
    "  # Use ggrepel to jitter the labels away from the points\n",
    "  ggrepel::geom_text_repel(\n",
    "    aes(label = Subject, color = NULL), \n",
    "    data = df_no_pooling\n",
    "  ) + \n",
    "  # Don't forget 373\n",
    "  ggrepel::geom_text_repel(\n",
    "    aes(label = Subject, color = NULL), \n",
    "    data = filter(df_partial_pooling, Subject == \"373\")\n",
    "  ) + \n",
    "  theme(legend.position = \"bottom\", legend.justification = \"left\") + \n",
    "  ggtitle(\"Pooling of regression parameters\") + \n",
    "  xlab(\"Intercept estimate\") + \n",
    "  ylab(\"Slope estimate\") + \n",
    "  scale_color_brewer(palette = \"Dark2\") "
   ]
  },
  {
   "cell_type": "code",
   "execution_count": 40,
   "metadata": {},
   "outputs": [
    {
     "data": {
      "text/html": [
       "<table>\n",
       "<thead><tr><th></th><th scope=col>(Intercept)</th><th scope=col>Days</th></tr></thead>\n",
       "<tbody>\n",
       "\t<tr><th scope=row>(Intercept)</th><td>582.717345</td><td> 9.897673 </td></tr>\n",
       "\t<tr><th scope=row>Days</th><td>  9.897673</td><td>35.033088 </td></tr>\n",
       "</tbody>\n",
       "</table>\n"
      ],
      "text/latex": [
       "\\begin{tabular}{r|ll}\n",
       "  & (Intercept) & Days\\\\\n",
       "\\hline\n",
       "\t(Intercept) & 582.717345 &  9.897673 \\\\\n",
       "\tDays &   9.897673 & 35.033088 \\\\\n",
       "\\end{tabular}\n"
      ],
      "text/markdown": [
       "\n",
       "| <!--/--> | (Intercept) | Days |\n",
       "|---|---|---|\n",
       "| (Intercept) | 582.717345 |  9.897673  |\n",
       "| Days |   9.897673 | 35.033088  |\n",
       "\n"
      ],
      "text/plain": [
       "            (Intercept) Days     \n",
       "(Intercept) 582.717345   9.897673\n",
       "Days          9.897673  35.033088"
      ]
     },
     "metadata": {},
     "output_type": "display_data"
    }
   ],
   "source": [
    "# Extract the matrix\n",
    "cov_mat <- VarCorr(m)[[\"Subject\"]]\n",
    "# Strip off some details so that just the useful part is printed\n",
    "attr(cov_mat, \"stddev\") <- NULL\n",
    "attr(cov_mat, \"correlation\") <- NULL\n",
    "cov_mat"
   ]
  },
  {
   "cell_type": "code",
   "execution_count": 41,
   "metadata": {
    "scrolled": true
   },
   "outputs": [
    {
     "name": "stderr",
     "output_type": "stream",
     "text": [
      "Warning message:\n",
      "\"package 'ellipse' was built under R version 3.6.3\"\n",
      "Attaching package: 'ellipse'\n",
      "\n",
      "The following object is masked from 'package:graphics':\n",
      "\n",
      "    pairs\n",
      "\n"
     ]
    },
    {
     "data": {
      "text/html": [
       "<table>\n",
       "<thead><tr><th scope=col>Intercept</th><th scope=col>Slope_Days</th><th scope=col>level</th></tr></thead>\n",
       "<tbody>\n",
       "\t<tr><td>260.6449</td><td>12.43878</td><td>0.1     </td></tr>\n",
       "\t<tr><td>260.1492</td><td>12.55233</td><td>0.1     </td></tr>\n",
       "\t<tr><td>259.6228</td><td>12.65743</td><td>0.1     </td></tr>\n",
       "\t<tr><td>259.0679</td><td>12.75365</td><td>0.1     </td></tr>\n",
       "\t<tr><td>258.4867</td><td>12.84060</td><td>0.1     </td></tr>\n",
       "\t<tr><td>257.8816</td><td>12.91793</td><td>0.1     </td></tr>\n",
       "\t<tr><td>257.2550</td><td>12.98534</td><td>0.1     </td></tr>\n",
       "\t<tr><td>256.6095</td><td>13.04254</td><td>0.1     </td></tr>\n",
       "\t<tr><td>255.9475</td><td>13.08932</td><td>0.1     </td></tr>\n",
       "\t<tr><td>255.2719</td><td>13.12547</td><td>0.1     </td></tr>\n",
       "\t<tr><td>254.5852</td><td>13.15086</td><td>0.1     </td></tr>\n",
       "\t<tr><td>253.8903</td><td>13.16538</td><td>0.1     </td></tr>\n",
       "\t<tr><td>253.1900</td><td>13.16898</td><td>0.1     </td></tr>\n",
       "\t<tr><td>252.4871</td><td>13.16164</td><td>0.1     </td></tr>\n",
       "\t<tr><td>251.7844</td><td>13.14339</td><td>0.1     </td></tr>\n",
       "\t<tr><td>251.0848</td><td>13.11430</td><td>0.1     </td></tr>\n",
       "\t<tr><td>250.3910</td><td>13.07449</td><td>0.1     </td></tr>\n",
       "\t<tr><td>249.7059</td><td>13.02412</td><td>0.1     </td></tr>\n",
       "\t<tr><td>249.0323</td><td>12.96340</td><td>0.1     </td></tr>\n",
       "\t<tr><td>248.3727</td><td>12.89256</td><td>0.1     </td></tr>\n",
       "\t<tr><td>247.7300</td><td>12.81190</td><td>0.1     </td></tr>\n",
       "\t<tr><td>247.1066</td><td>12.72173</td><td>0.1     </td></tr>\n",
       "\t<tr><td>246.5051</td><td>12.62243</td><td>0.1     </td></tr>\n",
       "\t<tr><td>245.9279</td><td>12.51438</td><td>0.1     </td></tr>\n",
       "\t<tr><td>245.3774</td><td>12.39804</td><td>0.1     </td></tr>\n",
       "\t<tr><td>244.8557</td><td>12.27385</td><td>0.1     </td></tr>\n",
       "\t<tr><td>244.3650</td><td>12.14233</td><td>0.1     </td></tr>\n",
       "\t<tr><td>243.9072</td><td>12.00401</td><td>0.1     </td></tr>\n",
       "\t<tr><td>243.4841</td><td>11.85944</td><td>0.1     </td></tr>\n",
       "\t<tr><td>243.0976</td><td>11.70920</td><td>0.1     </td></tr>\n",
       "\t<tr><td>...</td><td>...</td><td>...</td></tr>\n",
       "\t<tr><td>276.5099   </td><td>-0.37420515</td><td>0.9        </td></tr>\n",
       "\t<tr><td>279.3744   </td><td> 0.06889086</td><td>0.9        </td></tr>\n",
       "\t<tr><td>282.1308   </td><td> 0.55379647</td><td>0.9        </td></tr>\n",
       "\t<tr><td>284.7681   </td><td> 1.07855914</td><td>0.9        </td></tr>\n",
       "\t<tr><td>287.2756   </td><td> 1.64106584</td><td>0.9        </td></tr>\n",
       "\t<tr><td>289.6433   </td><td> 2.23905154</td><td>0.9        </td></tr>\n",
       "\t<tr><td>291.8616   </td><td> 2.87010837</td><td>0.9        </td></tr>\n",
       "\t<tr><td>293.9215   </td><td> 3.53169529</td><td>0.9        </td></tr>\n",
       "\t<tr><td>295.8149   </td><td> 4.22114832</td><td>0.9        </td></tr>\n",
       "\t<tr><td>297.5340   </td><td> 4.93569127</td><td>0.9        </td></tr>\n",
       "\t<tr><td>299.0719   </td><td> 5.67244694</td><td>0.9        </td></tr>\n",
       "\t<tr><td>300.4224   </td><td> 6.42844867</td><td>0.9        </td></tr>\n",
       "\t<tr><td>301.5802   </td><td> 7.20065230</td><td>0.9        </td></tr>\n",
       "\t<tr><td>302.5405   </td><td> 7.98594845</td><td>0.9        </td></tr>\n",
       "\t<tr><td>303.2995   </td><td> 8.78117500</td><td>0.9        </td></tr>\n",
       "\t<tr><td>303.8541   </td><td> 9.58312986</td><td>0.9        </td></tr>\n",
       "\t<tr><td>304.2021   </td><td>10.38858384</td><td>0.9        </td></tr>\n",
       "\t<tr><td>304.3421   </td><td>11.19429366</td><td>0.9        </td></tr>\n",
       "\t<tr><td>304.2735   </td><td>11.99701501</td><td>0.9        </td></tr>\n",
       "\t<tr><td>303.9966   </td><td>12.79351561</td><td>0.9        </td></tr>\n",
       "\t<tr><td>303.5126   </td><td>13.58058825</td><td>0.9        </td></tr>\n",
       "\t<tr><td>302.8232   </td><td>14.35506365</td><td>0.9        </td></tr>\n",
       "\t<tr><td>301.9314   </td><td>15.11382327</td><td>0.9        </td></tr>\n",
       "\t<tr><td>300.8408   </td><td>15.85381186</td><td>0.9        </td></tr>\n",
       "\t<tr><td>299.5557   </td><td>16.57204975</td><td>0.9        </td></tr>\n",
       "\t<tr><td>298.0812   </td><td>17.26564485</td><td>0.9        </td></tr>\n",
       "\t<tr><td>296.4234   </td><td>17.93180428</td><td>0.9        </td></tr>\n",
       "\t<tr><td>294.5889   </td><td>18.56784567</td><td>0.9        </td></tr>\n",
       "\t<tr><td>292.5851   </td><td>19.17120790</td><td>0.9        </td></tr>\n",
       "\t<tr><td>290.4200   </td><td>19.73946144</td><td>0.9        </td></tr>\n",
       "</tbody>\n",
       "</table>\n"
      ],
      "text/latex": [
       "\\begin{tabular}{r|lll}\n",
       " Intercept & Slope\\_Days & level\\\\\n",
       "\\hline\n",
       "\t 260.6449 & 12.43878 & 0.1     \\\\\n",
       "\t 260.1492 & 12.55233 & 0.1     \\\\\n",
       "\t 259.6228 & 12.65743 & 0.1     \\\\\n",
       "\t 259.0679 & 12.75365 & 0.1     \\\\\n",
       "\t 258.4867 & 12.84060 & 0.1     \\\\\n",
       "\t 257.8816 & 12.91793 & 0.1     \\\\\n",
       "\t 257.2550 & 12.98534 & 0.1     \\\\\n",
       "\t 256.6095 & 13.04254 & 0.1     \\\\\n",
       "\t 255.9475 & 13.08932 & 0.1     \\\\\n",
       "\t 255.2719 & 13.12547 & 0.1     \\\\\n",
       "\t 254.5852 & 13.15086 & 0.1     \\\\\n",
       "\t 253.8903 & 13.16538 & 0.1     \\\\\n",
       "\t 253.1900 & 13.16898 & 0.1     \\\\\n",
       "\t 252.4871 & 13.16164 & 0.1     \\\\\n",
       "\t 251.7844 & 13.14339 & 0.1     \\\\\n",
       "\t 251.0848 & 13.11430 & 0.1     \\\\\n",
       "\t 250.3910 & 13.07449 & 0.1     \\\\\n",
       "\t 249.7059 & 13.02412 & 0.1     \\\\\n",
       "\t 249.0323 & 12.96340 & 0.1     \\\\\n",
       "\t 248.3727 & 12.89256 & 0.1     \\\\\n",
       "\t 247.7300 & 12.81190 & 0.1     \\\\\n",
       "\t 247.1066 & 12.72173 & 0.1     \\\\\n",
       "\t 246.5051 & 12.62243 & 0.1     \\\\\n",
       "\t 245.9279 & 12.51438 & 0.1     \\\\\n",
       "\t 245.3774 & 12.39804 & 0.1     \\\\\n",
       "\t 244.8557 & 12.27385 & 0.1     \\\\\n",
       "\t 244.3650 & 12.14233 & 0.1     \\\\\n",
       "\t 243.9072 & 12.00401 & 0.1     \\\\\n",
       "\t 243.4841 & 11.85944 & 0.1     \\\\\n",
       "\t 243.0976 & 11.70920 & 0.1     \\\\\n",
       "\t ... & ... & ...\\\\\n",
       "\t 276.5099    & -0.37420515 & 0.9        \\\\\n",
       "\t 279.3744    &  0.06889086 & 0.9        \\\\\n",
       "\t 282.1308    &  0.55379647 & 0.9        \\\\\n",
       "\t 284.7681    &  1.07855914 & 0.9        \\\\\n",
       "\t 287.2756    &  1.64106584 & 0.9        \\\\\n",
       "\t 289.6433    &  2.23905154 & 0.9        \\\\\n",
       "\t 291.8616    &  2.87010837 & 0.9        \\\\\n",
       "\t 293.9215    &  3.53169529 & 0.9        \\\\\n",
       "\t 295.8149    &  4.22114832 & 0.9        \\\\\n",
       "\t 297.5340    &  4.93569127 & 0.9        \\\\\n",
       "\t 299.0719    &  5.67244694 & 0.9        \\\\\n",
       "\t 300.4224    &  6.42844867 & 0.9        \\\\\n",
       "\t 301.5802    &  7.20065230 & 0.9        \\\\\n",
       "\t 302.5405    &  7.98594845 & 0.9        \\\\\n",
       "\t 303.2995    &  8.78117500 & 0.9        \\\\\n",
       "\t 303.8541    &  9.58312986 & 0.9        \\\\\n",
       "\t 304.2021    & 10.38858384 & 0.9        \\\\\n",
       "\t 304.3421    & 11.19429366 & 0.9        \\\\\n",
       "\t 304.2735    & 11.99701501 & 0.9        \\\\\n",
       "\t 303.9966    & 12.79351561 & 0.9        \\\\\n",
       "\t 303.5126    & 13.58058825 & 0.9        \\\\\n",
       "\t 302.8232    & 14.35506365 & 0.9        \\\\\n",
       "\t 301.9314    & 15.11382327 & 0.9        \\\\\n",
       "\t 300.8408    & 15.85381186 & 0.9        \\\\\n",
       "\t 299.5557    & 16.57204975 & 0.9        \\\\\n",
       "\t 298.0812    & 17.26564485 & 0.9        \\\\\n",
       "\t 296.4234    & 17.93180428 & 0.9        \\\\\n",
       "\t 294.5889    & 18.56784567 & 0.9        \\\\\n",
       "\t 292.5851    & 19.17120790 & 0.9        \\\\\n",
       "\t 290.4200    & 19.73946144 & 0.9        \\\\\n",
       "\\end{tabular}\n"
      ],
      "text/markdown": [
       "\n",
       "| Intercept | Slope_Days | level |\n",
       "|---|---|---|\n",
       "| 260.6449 | 12.43878 | 0.1      |\n",
       "| 260.1492 | 12.55233 | 0.1      |\n",
       "| 259.6228 | 12.65743 | 0.1      |\n",
       "| 259.0679 | 12.75365 | 0.1      |\n",
       "| 258.4867 | 12.84060 | 0.1      |\n",
       "| 257.8816 | 12.91793 | 0.1      |\n",
       "| 257.2550 | 12.98534 | 0.1      |\n",
       "| 256.6095 | 13.04254 | 0.1      |\n",
       "| 255.9475 | 13.08932 | 0.1      |\n",
       "| 255.2719 | 13.12547 | 0.1      |\n",
       "| 254.5852 | 13.15086 | 0.1      |\n",
       "| 253.8903 | 13.16538 | 0.1      |\n",
       "| 253.1900 | 13.16898 | 0.1      |\n",
       "| 252.4871 | 13.16164 | 0.1      |\n",
       "| 251.7844 | 13.14339 | 0.1      |\n",
       "| 251.0848 | 13.11430 | 0.1      |\n",
       "| 250.3910 | 13.07449 | 0.1      |\n",
       "| 249.7059 | 13.02412 | 0.1      |\n",
       "| 249.0323 | 12.96340 | 0.1      |\n",
       "| 248.3727 | 12.89256 | 0.1      |\n",
       "| 247.7300 | 12.81190 | 0.1      |\n",
       "| 247.1066 | 12.72173 | 0.1      |\n",
       "| 246.5051 | 12.62243 | 0.1      |\n",
       "| 245.9279 | 12.51438 | 0.1      |\n",
       "| 245.3774 | 12.39804 | 0.1      |\n",
       "| 244.8557 | 12.27385 | 0.1      |\n",
       "| 244.3650 | 12.14233 | 0.1      |\n",
       "| 243.9072 | 12.00401 | 0.1      |\n",
       "| 243.4841 | 11.85944 | 0.1      |\n",
       "| 243.0976 | 11.70920 | 0.1      |\n",
       "| ... | ... | ... |\n",
       "| 276.5099    | -0.37420515 | 0.9         |\n",
       "| 279.3744    |  0.06889086 | 0.9         |\n",
       "| 282.1308    |  0.55379647 | 0.9         |\n",
       "| 284.7681    |  1.07855914 | 0.9         |\n",
       "| 287.2756    |  1.64106584 | 0.9         |\n",
       "| 289.6433    |  2.23905154 | 0.9         |\n",
       "| 291.8616    |  2.87010837 | 0.9         |\n",
       "| 293.9215    |  3.53169529 | 0.9         |\n",
       "| 295.8149    |  4.22114832 | 0.9         |\n",
       "| 297.5340    |  4.93569127 | 0.9         |\n",
       "| 299.0719    |  5.67244694 | 0.9         |\n",
       "| 300.4224    |  6.42844867 | 0.9         |\n",
       "| 301.5802    |  7.20065230 | 0.9         |\n",
       "| 302.5405    |  7.98594845 | 0.9         |\n",
       "| 303.2995    |  8.78117500 | 0.9         |\n",
       "| 303.8541    |  9.58312986 | 0.9         |\n",
       "| 304.2021    | 10.38858384 | 0.9         |\n",
       "| 304.3421    | 11.19429366 | 0.9         |\n",
       "| 304.2735    | 11.99701501 | 0.9         |\n",
       "| 303.9966    | 12.79351561 | 0.9         |\n",
       "| 303.5126    | 13.58058825 | 0.9         |\n",
       "| 302.8232    | 14.35506365 | 0.9         |\n",
       "| 301.9314    | 15.11382327 | 0.9         |\n",
       "| 300.8408    | 15.85381186 | 0.9         |\n",
       "| 299.5557    | 16.57204975 | 0.9         |\n",
       "| 298.0812    | 17.26564485 | 0.9         |\n",
       "| 296.4234    | 17.93180428 | 0.9         |\n",
       "| 294.5889    | 18.56784567 | 0.9         |\n",
       "| 292.5851    | 19.17120790 | 0.9         |\n",
       "| 290.4200    | 19.73946144 | 0.9         |\n",
       "\n"
      ],
      "text/plain": [
       "    Intercept Slope_Days  level\n",
       "1   260.6449  12.43878    0.1  \n",
       "2   260.1492  12.55233    0.1  \n",
       "3   259.6228  12.65743    0.1  \n",
       "4   259.0679  12.75365    0.1  \n",
       "5   258.4867  12.84060    0.1  \n",
       "6   257.8816  12.91793    0.1  \n",
       "7   257.2550  12.98534    0.1  \n",
       "8   256.6095  13.04254    0.1  \n",
       "9   255.9475  13.08932    0.1  \n",
       "10  255.2719  13.12547    0.1  \n",
       "11  254.5852  13.15086    0.1  \n",
       "12  253.8903  13.16538    0.1  \n",
       "13  253.1900  13.16898    0.1  \n",
       "14  252.4871  13.16164    0.1  \n",
       "15  251.7844  13.14339    0.1  \n",
       "16  251.0848  13.11430    0.1  \n",
       "17  250.3910  13.07449    0.1  \n",
       "18  249.7059  13.02412    0.1  \n",
       "19  249.0323  12.96340    0.1  \n",
       "20  248.3727  12.89256    0.1  \n",
       "21  247.7300  12.81190    0.1  \n",
       "22  247.1066  12.72173    0.1  \n",
       "23  246.5051  12.62243    0.1  \n",
       "24  245.9279  12.51438    0.1  \n",
       "25  245.3774  12.39804    0.1  \n",
       "26  244.8557  12.27385    0.1  \n",
       "27  244.3650  12.14233    0.1  \n",
       "28  243.9072  12.00401    0.1  \n",
       "29  243.4841  11.85944    0.1  \n",
       "30  243.0976  11.70920    0.1  \n",
       "... ...       ...         ...  \n",
       "471 276.5099  -0.37420515 0.9  \n",
       "472 279.3744   0.06889086 0.9  \n",
       "473 282.1308   0.55379647 0.9  \n",
       "474 284.7681   1.07855914 0.9  \n",
       "475 287.2756   1.64106584 0.9  \n",
       "476 289.6433   2.23905154 0.9  \n",
       "477 291.8616   2.87010837 0.9  \n",
       "478 293.9215   3.53169529 0.9  \n",
       "479 295.8149   4.22114832 0.9  \n",
       "480 297.5340   4.93569127 0.9  \n",
       "481 299.0719   5.67244694 0.9  \n",
       "482 300.4224   6.42844867 0.9  \n",
       "483 301.5802   7.20065230 0.9  \n",
       "484 302.5405   7.98594845 0.9  \n",
       "485 303.2995   8.78117500 0.9  \n",
       "486 303.8541   9.58312986 0.9  \n",
       "487 304.2021  10.38858384 0.9  \n",
       "488 304.3421  11.19429366 0.9  \n",
       "489 304.2735  11.99701501 0.9  \n",
       "490 303.9966  12.79351561 0.9  \n",
       "491 303.5126  13.58058825 0.9  \n",
       "492 302.8232  14.35506365 0.9  \n",
       "493 301.9314  15.11382327 0.9  \n",
       "494 300.8408  15.85381186 0.9  \n",
       "495 299.5557  16.57204975 0.9  \n",
       "496 298.0812  17.26564485 0.9  \n",
       "497 296.4234  17.93180428 0.9  \n",
       "498 294.5889  18.56784567 0.9  \n",
       "499 292.5851  19.17120790 0.9  \n",
       "500 290.4200  19.73946144 0.9  "
      ]
     },
     "metadata": {},
     "output_type": "display_data"
    }
   ],
   "source": [
    "library(ellipse)\n",
    "# Helper function to make a data-frame of ellipse points that \n",
    "# includes the level as a column\n",
    "make_ellipse <- function(cov_mat, center, level) {\n",
    "  ellipse(cov_mat, centre = center, level = level) %>%\n",
    "    as.data.frame() %>%\n",
    "    add_column(level = level) %>% \n",
    "    as_tibble()\n",
    "}\n",
    "center <- fixef(m)\n",
    "levels <- c(.1, .3, .5, .7, .9)\n",
    "# Create an ellipse dataframe for each of the levels defined \n",
    "# above and combine them\n",
    "df_ellipse <- levels %>%\n",
    "  purrr::map_df(~ make_ellipse(cov_mat, center, level = .x)) %>% \n",
    "  rename(Intercept = `(Intercept)`, Slope_Days = Days)\n",
    "df_ellipse"
   ]
  },
  {
   "cell_type": "code",
   "execution_count": 42,
   "metadata": {},
   "outputs": [
    {
     "data": {
      "image/png": "[encoded data removed]",
      "text/plain": [
       "plot without title"
      ]
     },
     "metadata": {},
     "output_type": "display_data"
    }
   ],
   "source": [
    "ggplot(df_pulled) + \n",
    "  aes(x = Intercept, y = Slope_Days, color = Model) + \n",
    "  # Draw contour lines from the distribution of effects\n",
    "  geom_path(\n",
    "    aes(group = level, color = NULL), \n",
    "    data = df_ellipse, \n",
    "    linetype = \"dashed\", \n",
    "    color = \"grey40\"\n",
    "  ) + \n",
    "  geom_point(data = df_gravity, size = 5) + \n",
    "  geom_point(size = 2) + \n",
    "  geom_path(\n",
    "    aes(group = Subject, color = NULL), \n",
    "    arrow = arrow(length = unit(.02, \"npc\"))\n",
    "  ) + \n",
    "  theme(legend.position = \"bottom\", legend.justification = \"left\") + \n",
    "  ggtitle(\"Topographic map of regression parameters\") + \n",
    "  xlab(\"Intercept estimate\") + \n",
    "  ylab(\"Slope estimate\") + \n",
    "  scale_color_brewer(palette = \"Dark2\") "
   ]
  },
  {
   "cell_type": "code",
   "execution_count": 43,
   "metadata": {},
   "outputs": [
    {
     "data": {
      "image/png": "[encoded data removed]",
      "text/plain": [
       "plot without title"
      ]
     },
     "metadata": {},
     "output_type": "display_data"
    }
   ],
   "source": [
    "last_plot() +\n",
    "  coord_cartesian(\n",
    "    xlim = range(df_pulled$Intercept), \n",
    "    ylim = range(df_pulled$Slope_Days),\n",
    "    expand = TRUE\n",
    "  ) "
   ]
  },
  {
   "cell_type": "markdown",
   "metadata": {},
   "source": [
    "https://github.com/tjmahr/tjmahr.github.io/blob/master/_R/2017-06-22-plotting-partial-pooling-in-mixed-effects-models.Rmd"
   ]
  },
  {
   "cell_type": "code",
   "execution_count": 44,
   "metadata": {},
   "outputs": [
    {
     "data": {
      "image/png": "[encoded data removed]",
      "text/plain": [
       "plot without title"
      ]
     },
     "metadata": {},
     "output_type": "display_data"
    }
   ],
   "source": [
    "# Euclidean distance\n",
    "contour_dist <- function(xs, ys, center_x, center_y) {\n",
    "  x_diff <- (center_x - xs) ^ 2\n",
    "  y_diff <- (center_y - ys) ^ 2\n",
    "  sqrt(x_diff + y_diff)\n",
    "}\n",
    "# Find the point to label in each ellipse.\n",
    "df_label_locations <- df_ellipse %>% \n",
    "  group_by(level) %>%\n",
    "  filter(\n",
    "    Intercept < quantile(Intercept, .25), \n",
    "    Slope_Days < quantile(Slope_Days, .25)\n",
    "  ) %>% \n",
    "  # Compute distance from center.\n",
    "  mutate(\n",
    "    dist = contour_dist(Intercept, Slope_Days, fixef(m)[1], fixef(m)[2])\n",
    "  ) %>% \n",
    "  # Keep smallest values.\n",
    "  top_n(-1, wt = dist) %>% \n",
    "  ungroup()\n",
    "# Tweak the last plot one more time!\n",
    "last_plot() +\n",
    "  geom_text(\n",
    "    aes(label = level, color = NULL), \n",
    "    data = df_label_locations, \n",
    "    nudge_x = .5, \n",
    "    nudge_y = .8, \n",
    "    size = 3.5, \n",
    "    color = \"grey40\"\n",
    "  )"
   ]
  }
 ],
 "metadata": {
  "kernelspec": {
   "display_name": "R",
   "language": "R",
   "name": "ir"
  },
  "language_info": {
   "codemirror_mode": "r",
   "file_extension": ".r",
   "mimetype": "text/x-r-source",
   "name": "R",
   "pygments_lexer": "r",
   "version": "3.6.1"
  }
 },
 "nbformat": 4,
 "nbformat_minor": 4
}
